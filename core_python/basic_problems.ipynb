{
 "cells": [
  {
   "cell_type": "markdown",
   "metadata": {},
   "source": [
    "1.Write a  program to find the sum of 125 & 96"
   ]
  },
  {
   "cell_type": "code",
   "execution_count": null,
   "metadata": {},
   "outputs": [],
   "source": [
    "sum=125+96\n",
    "print(sum)"
   ]
  },
  {
   "cell_type": "markdown",
   "metadata": {},
   "source": [
    "2.Write a program to find the product of 8 , 10, & 20"
   ]
  },
  {
   "cell_type": "code",
   "execution_count": null,
   "metadata": {},
   "outputs": [],
   "source": [
    "product=8*10*20\n",
    "print(product)"
   ]
  },
  {
   "cell_type": "markdown",
   "metadata": {},
   "source": [
    "3.Write a program to find the sum & product of 15, 20, 45"
   ]
  },
  {
   "cell_type": "code",
   "execution_count": null,
   "metadata": {},
   "outputs": [],
   "source": [
    "sum=15+20+45\n",
    "print(\"sum is\",sum)\n",
    "product=15*20*45\n",
    "print(\"product is \",product)"
   ]
  },
  {
   "cell_type": "markdown",
   "metadata": {},
   "source": [
    "4.Write a  program to find the average of 59, 45 & 20"
   ]
  },
  {
   "cell_type": "code",
   "execution_count": null,
   "metadata": {},
   "outputs": [],
   "source": [
    "avg=(59+45+20)/3\n",
    "print(avg)"
   ]
  },
  {
   "cell_type": "markdown",
   "metadata": {},
   "source": [
    "5.Write a  program to find the sum, product, & average of  256 & 32"
   ]
  },
  {
   "cell_type": "code",
   "execution_count": null,
   "metadata": {},
   "outputs": [],
   "source": [
    "sum=256+32\n",
    "product=256*32\n",
    "avg=sum/3\n",
    "print(\"sum is\",sum)\n",
    "print(\"product is\",product)\n",
    "print(\"avg is\",avg)"
   ]
  },
  {
   "cell_type": "markdown",
   "metadata": {},
   "source": [
    "6.Write a  program to find the addition, subtraction, multiplication, division, of 88 & 33"
   ]
  },
  {
   "cell_type": "code",
   "execution_count": null,
   "metadata": {},
   "outputs": [],
   "source": [
    "add=88+33\n",
    "sub=88-33\n",
    "mul=88*33\n",
    "div=88/33\n",
    "print(add)\n",
    "print(sub)\n",
    "print(mul)\n",
    "print(div)"
   ]
  },
  {
   "cell_type": "markdown",
   "metadata": {},
   "source": [
    "7.Write a program to find the simple interest if  p = 3000 , n = 5 & r = 4"
   ]
  },
  {
   "cell_type": "code",
   "execution_count": null,
   "metadata": {},
   "outputs": [],
   "source": [
    "p=3000\n",
    "n=5\n",
    "r=4\n",
    "si=(p*n*r)/100\n",
    "print(si)"
   ]
  },
  {
   "cell_type": "markdown",
   "metadata": {},
   "source": [
    "8.Write a program to find the compound interest if p = 5000 , n =4 , r = 3"
   ]
  },
  {
   "cell_type": "code",
   "execution_count": null,
   "metadata": {},
   "outputs": [],
   "source": [
    "from math import pow\n",
    "p=3000\n",
    "n=5\n",
    "r=4\n",
    "ci=p*pow(1+r/100,n)\n",
    "print(ci)"
   ]
  },
  {
   "cell_type": "markdown",
   "metadata": {},
   "source": [
    "9.Write a program to find the simple and compound interestsif p = 7000 , n = 5, & r = 2"
   ]
  },
  {
   "cell_type": "code",
   "execution_count": null,
   "metadata": {},
   "outputs": [],
   "source": [
    "from math import pow\n",
    "p=7000\n",
    "n=5\n",
    "r=2\n",
    "si=(p*n*r)/100\n",
    "ci=p*pow(1+r/100,n)\n",
    "print(si)\n",
    "print(ci)"
   ]
  },
  {
   "cell_type": "markdown",
   "metadata": {},
   "source": [
    "10.Write a  program to find the sum of the given 2 input integer numbers"
   ]
  },
  {
   "cell_type": "code",
   "execution_count": null,
   "metadata": {},
   "outputs": [],
   "source": [
    "a=int(input(\"enter no 1\"))\n",
    "b=int(input(\"enter no 2\"))\n",
    "print(\"sum is\",a+b)"
   ]
  },
  {
   "cell_type": "markdown",
   "metadata": {},
   "source": [
    "11.Write a program to find the product of the given 3 input floating-point numbers"
   ]
  },
  {
   "cell_type": "code",
   "execution_count": null,
   "metadata": {},
   "outputs": [],
   "source": [
    "a=float(input(\"enter no 1\"))\n",
    "b=float(input(\"enter no 2\"))\n",
    "c=float(input(\"enter no 3\"))\n",
    "print(\"sum is\",a+b+c)"
   ]
  },
  {
   "cell_type": "markdown",
   "metadata": {},
   "source": [
    "12.Write a program to find the sum & product of the given four input numbers"
   ]
  },
  {
   "cell_type": "code",
   "execution_count": null,
   "metadata": {},
   "outputs": [],
   "source": [
    "a=int(input(\"enter no 1\"))\n",
    "b=int(input(\"enter no 2\"))\n",
    "c=int(input(\"enter no 3\"))\n",
    "d=int(input(\"enter no 3\"))\n",
    "print(\"sum is\",a+b+c+d)\n",
    "print(\"product is \",a*b*c*d)"
   ]
  },
  {
   "cell_type": "markdown",
   "metadata": {},
   "source": [
    "13.Write a  program to find the average of the given 3 floating-point input numbers"
   ]
  },
  {
   "cell_type": "code",
   "execution_count": null,
   "metadata": {},
   "outputs": [],
   "source": [
    "a=float(input(\"enter no 1\"))\n",
    "b=float(input(\"enter no 2\"))\n",
    "c=float(input(\"enter no 3\"))\n",
    "print(\"avg is\",(a+b+c)/3)"
   ]
  },
  {
   "cell_type": "markdown",
   "metadata": {},
   "source": [
    "14.Write a  program to find the simple and compound interests by reading the all values from a single line."
   ]
  },
  {
   "cell_type": "code",
   "execution_count": null,
   "metadata": {},
   "outputs": [],
   "source": [
    "from math import pow\n",
    "# input\n",
    "p,r,n=float(input(\"enter principal amount\")),float(input(\"enter rate of Interest\")),float(input(\"enter no of years\"))\n",
    "# calculation\n",
    "si=(p*n*r)/100\n",
    "ci=p*pow(1+r/100,n)\n",
    "print(si)\n",
    "print(ci)\n"
   ]
  },
  {
   "cell_type": "markdown",
   "metadata": {},
   "source": [
    "15.Write a  program to find the simple and compound interests by reading the each value from a separate line"
   ]
  },
  {
   "cell_type": "code",
   "execution_count": null,
   "metadata": {},
   "outputs": [],
   "source": [
    "from math import pow\n",
    "# input\n",
    "p=float(input(\"enter principal amount\"))\n",
    "r=float(input(\"enter rate of Interest\"))\n",
    "n=float(input(\"enter no of years\"))\n",
    "# calculation\n",
    "si=(p*n*r)/100\n",
    "ci=p*pow(1+r/100,n)\n",
    "print(si)\n",
    "print(ci)"
   ]
  },
  {
   "cell_type": "markdown",
   "metadata": {},
   "source": [
    "16.Write a  program to find the addition, subtraction, multiplication & division of the given 2 floating point input no’s"
   ]
  },
  {
   "cell_type": "code",
   "execution_count": null,
   "metadata": {},
   "outputs": [],
   "source": [
    "num1=float(input(\"enter number 1\"))\n",
    "num2=float(input(\"enter number 2 \"))\n",
    "print(\"the addition is \",num1+num2)\n",
    "print(\"the subtraction is \",num1-num2)\n",
    "print(\"the multiplication is \",num1*num2)\n",
    "print(\"the division is \",num1/num2)"
   ]
  },
  {
   "cell_type": "markdown",
   "metadata": {},
   "source": [
    "17.Write a  program to find an employee total salary if basic=8000, ta=500, da=700 &hra=2000"
   ]
  },
  {
   "cell_type": "code",
   "execution_count": null,
   "metadata": {},
   "outputs": [],
   "source": [
    "basic=8000\n",
    "ta=500\n",
    "da=700\n",
    "hra=2000\n",
    "total_salary=(basic+ta+da+hra)\n",
    "print(\"total salary  \",total_salary)"
   ]
  },
  {
   "cell_type": "markdown",
   "metadata": {},
   "source": [
    "18.Write a program to find an employee total salary"
   ]
  },
  {
   "cell_type": "code",
   "execution_count": null,
   "metadata": {},
   "outputs": [],
   "source": [
    "basic=float(input(\"enter basic salary\"))\n",
    "ta=float(input(\"enter ta\"))\n",
    "da=float(input(\"enter da\"))\n",
    "hra=float(input(\"enter hra\"))\n",
    "total_salary=(basic+ta+da+hra)\n",
    "print(\"total salary  \",total_salary)"
   ]
  },
  {
   "cell_type": "markdown",
   "metadata": {},
   "source": [
    "19.Write a  program to find an employee total salary  if ta = 10%, da = 15% and hra=30% of basic "
   ]
  },
  {
   "cell_type": "code",
   "execution_count": null,
   "metadata": {},
   "outputs": [],
   "source": [
    "basic=int(input(\"enter basic salary\"))\n",
    "ta=(basic*10/100)\n",
    "da=(basic*15/100)\n",
    "hra=(basic*30/100)\n",
    "total_salary=(basic+ta+da+hra)\n",
    "print(\"total salary  \",total_salary)\n"
   ]
  },
  {
   "cell_type": "markdown",
   "metadata": {},
   "source": [
    "20.Write a program to find an employee net salary if basic=10000, ta=700, da=1200, hra=3000,  it=1000, pf=500 and lic=800"
   ]
  },
  {
   "cell_type": "code",
   "execution_count": null,
   "metadata": {},
   "outputs": [],
   "source": [
    "basic=10000\n",
    "ta=700\n",
    "da=1200\n",
    "hra=3000\n",
    "it=1000\n",
    "pf=500 \n",
    "lic=800\n",
    "total_salary=(basic+ta+da+hra)\n",
    "future_savings=it+pf+lic\n",
    "net_income=total_salary-future_savings\n",
    "print(\"net Salary is:\", net_income )\n"
   ]
  },
  {
   "cell_type": "markdown",
   "metadata": {},
   "source": [
    "21.Write a program to find an employee net salary"
   ]
  },
  {
   "cell_type": "code",
   "execution_count": null,
   "metadata": {},
   "outputs": [],
   "source": [
    "basic=int(input(\"enter basic salary\"))\n",
    "ta=int(input(\"enter ta\"))\n",
    "da=int(input(\"enter da\"))\n",
    "hra=int(input(\"enter hra\"))\n",
    "it=int(input(\"enter it\"))\n",
    "pf=int(input(\"enter pf\")) \n",
    "lic=int(input(\"enter lic\"))\n",
    "total_salary=(basic+ta+da+hra)\n",
    "future_savings=it+pf+lic\n",
    "net_income=total_salary-future_savings\n",
    "print(\"net Salary is:\", net_income )"
   ]
  },
  {
   "cell_type": "markdown",
   "metadata": {},
   "source": [
    "22.Write a program to find an employee net salary if ta=5%, da=10%, hra=20%, pf=5%, it=30% and lic=8% of basic"
   ]
  },
  {
   "cell_type": "code",
   "execution_count": null,
   "metadata": {},
   "outputs": [],
   "source": [
    "basic=int(input(\"enter basic salary\"))\n",
    "ta=(basic*5/100)\n",
    "da=(basic*10/100)\n",
    "hra=(basic*20/100)\n",
    "pf=(basic*5/100)\n",
    "it=(basic*30/100)\n",
    "lic=(basic*8/100)\n",
    "total_salary=(basic+ta+da+hra)\n",
    "future_savings=it+pf+lic\n",
    "net_income=total_salary-future_savings\n",
    "print(\"net Salary is:\", net_income )"
   ]
  },
  {
   "cell_type": "markdown",
   "metadata": {},
   "source": [
    "23.Write a program to print the natural numbers"
   ]
  },
  {
   "cell_type": "code",
   "execution_count": null,
   "metadata": {},
   "outputs": [],
   "source": [
    "\n",
    "n=int(input(\"enter range\"))\n",
    "for i in range(1,n+1):\n",
    "    print(i)"
   ]
  },
  {
   "cell_type": "markdown",
   "metadata": {},
   "source": [
    "24.Write a program to print the odd numbers"
   ]
  },
  {
   "cell_type": "code",
   "execution_count": null,
   "metadata": {},
   "outputs": [],
   "source": [
    "n=int(input(\"enter range for printing odd numbers\"))\n",
    "for i in range(1,n+1):\n",
    "    if(i%2!=0):\n",
    "        print(i)\n",
    "        \n",
    "    "
   ]
  },
  {
   "cell_type": "markdown",
   "metadata": {},
   "source": [
    "25.Write a program to print the even numbers"
   ]
  },
  {
   "cell_type": "code",
   "execution_count": 7,
   "metadata": {},
   "outputs": [
    {
     "name": "stdout",
     "output_type": "stream",
     "text": [
      "2\n",
      "4\n",
      "6\n"
     ]
    }
   ],
   "source": [
    "n=int(input(\"enter range for printing odd numbers\"))\n",
    "for i in range(1,n+1):\n",
    "    if(i%2==0):\n",
    "        print(i)"
   ]
  },
  {
   "cell_type": "code",
   "execution_count": 13,
   "metadata": {},
   "outputs": [
    {
     "name": "stdout",
     "output_type": "stream",
     "text": [
      "The minimum value is: 10\n"
     ]
    }
   ],
   "source": [
    "a, b, c, d = 50, 20, 50, 10\n",
    "\n",
    "minimum = a if a < b and a < c and a < d else b if b < c and b < d else c if c < d else d\n",
    "print(\"The minimum value is:\", minimum)\n"
   ]
  },
  {
   "cell_type": "markdown",
   "metadata": {},
   "source": [
    "How to read multiple values from the keyboard in a single line:"
   ]
  },
  {
   "cell_type": "code",
   "execution_count": 16,
   "metadata": {},
   "outputs": [
    {
     "name": "stdout",
     "output_type": "stream",
     "text": [
      "1\n",
      "2\n",
      "3\n",
      "4\n"
     ]
    }
   ],
   "source": [
    "a,b,c,d=[int(x) for x in input(\"enter any four numbers\").split()]\n",
    "print(a)\n",
    "print(b)\n",
    "print(c)\n",
    "print(d)"
   ]
  },
  {
   "cell_type": "markdown",
   "metadata": {},
   "source": [
    "Q) write a program to read 3 float numbers from the keyboard\n",
    "with , saperator and print their sum?"
   ]
  },
  {
   "cell_type": "code",
   "execution_count": 22,
   "metadata": {},
   "outputs": [
    {
     "name": "stdout",
     "output_type": "stream",
     "text": [
      "Sum = 6.6\n"
     ]
    }
   ],
   "source": [
    "a, b, c = [float(x) for x in input(\"Enter 3 floating numbers separated by commas: \").split()]\n",
    "print(\"Sum =\", a + b + c)\n"
   ]
  },
  {
   "cell_type": "markdown",
   "metadata": {},
   "source": [
    "Write a program to find biggest of 2 no from the command prompt"
   ]
  },
  {
   "cell_type": "code",
   "execution_count": 28,
   "metadata": {},
   "outputs": [
    {
     "name": "stdout",
     "output_type": "stream",
     "text": [
      "the biggest number is 1\n"
     ]
    }
   ],
   "source": [
    "n1,n2,n3,n4=[int(x) for x in input(\"enter four numbers\").split()]\n",
    "\n",
    "\n",
    "if n1>n2 and n2>n3 and n3>n4:\n",
    "    maximum=n1\n",
    "elif n2>n3 and n3>n4:\n",
    "    maximum=n2\n",
    "elif n3>n4:\n",
    "    maximum=n3\n",
    "else:\n",
    "    maximum=n4\n",
    "    \n",
    "print(\"the biggest number is\",maximum)"
   ]
  },
  {
   "cell_type": "markdown",
   "metadata": {},
   "source": [
    "write a program to check whether the given Number is in between\n",
    "1 to 100?"
   ]
  },
  {
   "cell_type": "code",
   "execution_count": 3,
   "metadata": {},
   "outputs": [
    {
     "name": "stdout",
     "output_type": "stream",
     "text": [
      "enter number is not in range 0 to 100\n"
     ]
    }
   ],
   "source": [
    "a=int(input(\"enter a number \"))\n",
    "\n",
    "\n",
    "if a>0 and a<100 :\n",
    "    print(\"enter number is in range 0 to 100\")\n",
    "    \n",
    "else :\n",
    "    \n",
    "    print(\"enter number is not in range 0 to 100\")"
   ]
  },
  {
   "cell_type": "markdown",
   "metadata": {},
   "source": [
    "#write a program to take a single digit number from the keyboard\n",
    "#and print is value in English word"
   ]
  },
  {
   "cell_type": "code",
   "execution_count": 6,
   "metadata": {},
   "outputs": [
    {
     "name": "stdout",
     "output_type": "stream",
     "text": [
      "number to word is: one\n"
     ]
    }
   ],
   "source": [
    "def numtoword(num):\n",
    "    word={0:\"one\",1:\"one\",2:\"two\",3:\"three\",4:\"four\",5:\"five\",6:\"six\",7:\"seven\",8:\"eight\",9:\"nine\",10:\"ten\"}\n",
    "    return word[num]\n",
    "\n",
    "num=int(input(\"enter a number\"))\n",
    "print(\"number to word is:\",numtoword(num))\n",
    "    "
   ]
  },
  {
   "cell_type": "markdown",
   "metadata": {},
   "source": [
    "to display odd numbers from 0 to 20"
   ]
  },
  {
   "cell_type": "code",
   "execution_count": 7,
   "metadata": {},
   "outputs": [
    {
     "name": "stdout",
     "output_type": "stream",
     "text": [
      "1\n",
      "3\n",
      "5\n",
      "7\n",
      "9\n",
      "11\n",
      "13\n",
      "15\n",
      "17\n",
      "19\n"
     ]
    }
   ],
   "source": [
    "for x in range (0,21):\n",
    "    if x%2==1:\n",
    "        print(x)\n",
    "        "
   ]
  },
  {
   "cell_type": "markdown",
   "metadata": {},
   "source": [
    "to display even numbers from 0 to 20"
   ]
  },
  {
   "cell_type": "code",
   "execution_count": 8,
   "metadata": {},
   "outputs": [
    {
     "name": "stdout",
     "output_type": "stream",
     "text": [
      "0\n",
      "2\n",
      "4\n",
      "6\n",
      "8\n",
      "10\n",
      "12\n",
      "14\n",
      "16\n",
      "18\n",
      "20\n"
     ]
    }
   ],
   "source": [
    "for x in range (0,21):\n",
    "    if x%2==0:\n",
    "        print(x)\n",
    "        "
   ]
  },
  {
   "cell_type": "markdown",
   "metadata": {},
   "source": [
    " to display numbers from 10 to 1 in descending order"
   ]
  },
  {
   "cell_type": "code",
   "execution_count": 9,
   "metadata": {},
   "outputs": [
    {
     "name": "stdout",
     "output_type": "stream",
     "text": [
      "10\n",
      "9\n",
      "8\n",
      "7\n",
      "6\n",
      "5\n",
      "4\n",
      "3\n",
      "2\n",
      "1\n"
     ]
    }
   ],
   "source": [
    "for x in range(10,0,-1):\n",
    "    print(x)"
   ]
  },
  {
   "cell_type": "markdown",
   "metadata": {},
   "source": [
    "to print sum of numbers present inside list"
   ]
  },
  {
   "cell_type": "code",
   "execution_count": 13,
   "metadata": {},
   "outputs": [
    {
     "name": "stdout",
     "output_type": "stream",
     "text": [
      "6\n"
     ]
    }
   ],
   "source": [
    "a=eval(input(\"enter a list\"))\n",
    "sum=0\n",
    "for x in a:\n",
    "    sum+=x\n",
    "    \n",
    "print(sum)"
   ]
  },
  {
   "cell_type": "markdown",
   "metadata": {},
   "source": [
    "to print numbers from 1 to 10 by using while loop"
   ]
  },
  {
   "cell_type": "code",
   "execution_count": 15,
   "metadata": {},
   "outputs": [
    {
     "name": "stdout",
     "output_type": "stream",
     "text": [
      "1\n",
      "2\n",
      "3\n",
      "4\n",
      "5\n",
      "6\n",
      "7\n",
      "8\n",
      "9\n",
      "10\n"
     ]
    }
   ],
   "source": [
    "i=1\n",
    "while i<=10:\n",
    "    print(i)\n",
    "    i+=1"
   ]
  },
  {
   "cell_type": "markdown",
   "metadata": {},
   "source": [
    "to display the sum of first n numbers"
   ]
  },
  {
   "cell_type": "code",
   "execution_count": 18,
   "metadata": {},
   "outputs": [
    {
     "name": "stdout",
     "output_type": "stream",
     "text": [
      "15\n"
     ]
    }
   ],
   "source": [
    "n=int(input(\"enter the value of n\"))\n",
    "sum=0\n",
    "i=0\n",
    "while i<=n:\n",
    "    sum+=i\n",
    "    i+=1\n",
    "print(sum)"
   ]
  },
  {
   "cell_type": "markdown",
   "metadata": {},
   "source": [
    "Write a program to prompt user to enter some name until entering Naresh"
   ]
  },
  {
   "cell_type": "code",
   "execution_count": 25,
   "metadata": {},
   "outputs": [
    {
     "name": "stdout",
     "output_type": "stream",
     "text": [
      "thanks for confirmation\n"
     ]
    }
   ],
   "source": [
    "\n",
    "n=\"\" # if this is not written the code takes input only once from next the code dosent take input\n",
    "while n!=\"naresh\":\n",
    "    n=input(\"enter a name \")\n",
    "print(\"thanks for confirmation\")\n",
    "    "
   ]
  },
  {
   "cell_type": "markdown",
   "metadata": {},
   "source": [
    "loop with break example\n"
   ]
  },
  {
   "cell_type": "code",
   "execution_count": 32,
   "metadata": {},
   "outputs": [
    {
     "name": "stdout",
     "output_type": "stream",
     "text": [
      "order  processed successfully \n",
      "order  processed successfully \n",
      "order  processed successfully \n",
      "order cannot be processed\n"
     ]
    }
   ],
   "source": [
    "cart=[10,20,40,500,600]\n",
    "\n",
    "for item in cart:\n",
    "    if item>=500:\n",
    "        print(\"order cannot be processed\")\n",
    "        break\n",
    "        \n",
    "    else:\n",
    "        print(\"order  processed successfully \")"
   ]
  },
  {
   "cell_type": "markdown",
   "metadata": {},
   "source": [
    "pass keyword example\n",
    "\n",
    "print all elements except 3,4,5 in range from 0 to 20"
   ]
  },
  {
   "cell_type": "code",
   "execution_count": 34,
   "metadata": {},
   "outputs": [
    {
     "name": "stdout",
     "output_type": "stream",
     "text": [
      "0\n",
      "1\n",
      "2\n",
      "6\n",
      "7\n",
      "8\n",
      "9\n",
      "10\n",
      "11\n",
      "12\n",
      "13\n",
      "14\n",
      "15\n",
      "16\n",
      "17\n",
      "18\n",
      "19\n",
      "20\n"
     ]
    }
   ],
   "source": [
    "for x in range(0,21):\n",
    "    if x==3 or x==4 or x== 5:\n",
    "        pass\n",
    "    else :\n",
    "        print(x)\n",
    "        "
   ]
  }
 ],
 "metadata": {
  "kernelspec": {
   "display_name": "Python 3",
   "language": "python",
   "name": "python3"
  },
  "language_info": {
   "codemirror_mode": {
    "name": "ipython",
    "version": 3
   },
   "file_extension": ".py",
   "mimetype": "text/x-python",
   "name": "python",
   "nbconvert_exporter": "python",
   "pygments_lexer": "ipython3",
   "version": "3.11.6"
  }
 },
 "nbformat": 4,
 "nbformat_minor": 2
}
