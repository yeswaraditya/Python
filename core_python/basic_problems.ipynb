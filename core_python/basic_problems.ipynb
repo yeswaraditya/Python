{
 "cells": [
  {
   "cell_type": "markdown",
   "metadata": {},
   "source": [
    "1.Write a  program to find the sum of 125 & 96"
   ]
  },
  {
   "cell_type": "code",
   "execution_count": null,
   "metadata": {},
   "outputs": [],
   "source": [
    "sum=125+96\n",
    "print(sum)"
   ]
  },
  {
   "cell_type": "markdown",
   "metadata": {},
   "source": [
    "2.Write a program to find the product of 8 , 10, & 20"
   ]
  },
  {
   "cell_type": "code",
   "execution_count": null,
   "metadata": {},
   "outputs": [],
   "source": [
    "product=8*10*20\n",
    "print(product)"
   ]
  },
  {
   "cell_type": "markdown",
   "metadata": {},
   "source": [
    "3.Write a program to find the sum & product of 15, 20, 45"
   ]
  },
  {
   "cell_type": "code",
   "execution_count": null,
   "metadata": {},
   "outputs": [],
   "source": [
    "sum=15+20+45\n",
    "print(\"sum is\",sum)\n",
    "product=15*20*45\n",
    "print(\"product is \",product)"
   ]
  },
  {
   "cell_type": "markdown",
   "metadata": {},
   "source": [
    "4.Write a  program to find the average of 59, 45 & 20"
   ]
  },
  {
   "cell_type": "code",
   "execution_count": null,
   "metadata": {},
   "outputs": [],
   "source": [
    "avg=(59+45+20)/3\n",
    "print(avg)"
   ]
  },
  {
   "cell_type": "markdown",
   "metadata": {},
   "source": [
    "5.Write a  program to find the sum, product, & average of  256 & 32"
   ]
  },
  {
   "cell_type": "code",
   "execution_count": null,
   "metadata": {},
   "outputs": [],
   "source": [
    "sum=256+32\n",
    "product=256*32\n",
    "avg=sum/3\n",
    "print(\"sum is\",sum)\n",
    "print(\"product is\",product)\n",
    "print(\"avg is\",avg)"
   ]
  },
  {
   "cell_type": "markdown",
   "metadata": {},
   "source": [
    "6.Write a  program to find the addition, subtraction, multiplication, division, of 88 & 33"
   ]
  },
  {
   "cell_type": "code",
   "execution_count": null,
   "metadata": {},
   "outputs": [],
   "source": [
    "add=88+33\n",
    "sub=88-33\n",
    "mul=88*33\n",
    "div=88/33\n",
    "print(add)\n",
    "print(sub)\n",
    "print(mul)\n",
    "print(div)"
   ]
  },
  {
   "cell_type": "markdown",
   "metadata": {},
   "source": [
    "7.Write a program to find the simple interest if  p = 3000 , n = 5 & r = 4"
   ]
  },
  {
   "cell_type": "code",
   "execution_count": null,
   "metadata": {},
   "outputs": [],
   "source": [
    "p=3000\n",
    "n=5\n",
    "r=4\n",
    "si=(p*n*r)/100\n",
    "print(si)"
   ]
  },
  {
   "cell_type": "markdown",
   "metadata": {},
   "source": [
    "8.Write a program to find the compound interest if p = 5000 , n =4 , r = 3"
   ]
  },
  {
   "cell_type": "code",
   "execution_count": null,
   "metadata": {},
   "outputs": [],
   "source": [
    "from math import pow\n",
    "p=3000\n",
    "n=5\n",
    "r=4\n",
    "ci=p*pow(1+r/100,n)\n",
    "print(ci)"
   ]
  },
  {
   "cell_type": "markdown",
   "metadata": {},
   "source": [
    "9.Write a program to find the simple and compound interestsif p = 7000 , n = 5, & r = 2"
   ]
  },
  {
   "cell_type": "code",
   "execution_count": null,
   "metadata": {},
   "outputs": [],
   "source": [
    "from math import pow\n",
    "p=7000\n",
    "n=5\n",
    "r=2\n",
    "si=(p*n*r)/100\n",
    "ci=p*pow(1+r/100,n)\n",
    "print(si)\n",
    "print(ci)"
   ]
  },
  {
   "cell_type": "markdown",
   "metadata": {},
   "source": [
    "10.Write a  program to find the sum of the given 2 input integer numbers"
   ]
  },
  {
   "cell_type": "code",
   "execution_count": null,
   "metadata": {},
   "outputs": [],
   "source": [
    "a=int(input(\"enter no 1\"))\n",
    "b=int(input(\"enter no 2\"))\n",
    "print(\"sum is\",a+b)"
   ]
  },
  {
   "cell_type": "markdown",
   "metadata": {},
   "source": [
    "11.Write a program to find the product of the given 3 input floating-point numbers"
   ]
  },
  {
   "cell_type": "code",
   "execution_count": null,
   "metadata": {},
   "outputs": [],
   "source": [
    "a=float(input(\"enter no 1\"))\n",
    "b=float(input(\"enter no 2\"))\n",
    "c=float(input(\"enter no 3\"))\n",
    "print(\"sum is\",a+b+c)"
   ]
  },
  {
   "cell_type": "markdown",
   "metadata": {},
   "source": [
    "12.Write a program to find the sum & product of the given four input numbers"
   ]
  },
  {
   "cell_type": "code",
   "execution_count": null,
   "metadata": {},
   "outputs": [],
   "source": [
    "a=int(input(\"enter no 1\"))\n",
    "b=int(input(\"enter no 2\"))\n",
    "c=int(input(\"enter no 3\"))\n",
    "d=int(input(\"enter no 3\"))\n",
    "print(\"sum is\",a+b+c+d)\n",
    "print(\"product is \",a*b*c*d)"
   ]
  },
  {
   "cell_type": "markdown",
   "metadata": {},
   "source": [
    "13.Write a  program to find the average of the given 3 floating-point input numbers"
   ]
  },
  {
   "cell_type": "code",
   "execution_count": null,
   "metadata": {},
   "outputs": [],
   "source": [
    "a=float(input(\"enter no 1\"))\n",
    "b=float(input(\"enter no 2\"))\n",
    "c=float(input(\"enter no 3\"))\n",
    "print(\"avg is\",(a+b+c)/3)"
   ]
  },
  {
   "cell_type": "markdown",
   "metadata": {},
   "source": [
    "14.Write a  program to find the simple and compound interests by reading the all values from a single line."
   ]
  },
  {
   "cell_type": "code",
   "execution_count": null,
   "metadata": {},
   "outputs": [],
   "source": [
    "from math import pow\n",
    "# input\n",
    "p,r,n=float(input(\"enter principal amount\")),float(input(\"enter rate of Interest\")),float(input(\"enter no of years\"))\n",
    "# calculation\n",
    "si=(p*n*r)/100\n",
    "ci=p*pow(1+r/100,n)\n",
    "print(si)\n",
    "print(ci)\n"
   ]
  },
  {
   "cell_type": "markdown",
   "metadata": {},
   "source": [
    "15.Write a  program to find the simple and compound interests by reading the each value from a separate line"
   ]
  },
  {
   "cell_type": "code",
   "execution_count": null,
   "metadata": {},
   "outputs": [],
   "source": [
    "from math import pow\n",
    "# input\n",
    "p=float(input(\"enter principal amount\"))\n",
    "r=float(input(\"enter rate of Interest\"))\n",
    "n=float(input(\"enter no of years\"))\n",
    "# calculation\n",
    "si=(p*n*r)/100\n",
    "ci=p*pow(1+r/100,n)\n",
    "print(si)\n",
    "print(ci)"
   ]
  },
  {
   "cell_type": "markdown",
   "metadata": {},
   "source": [
    "16.Write a  program to find the addition, subtraction, multiplication & division of the given 2 floating point input no’s"
   ]
  },
  {
   "cell_type": "code",
   "execution_count": null,
   "metadata": {},
   "outputs": [],
   "source": [
    "num1=float(input(\"enter number 1\"))\n",
    "num2=float(input(\"enter number 2 \"))\n",
    "print(\"the addition is \",num1+num2)\n",
    "print(\"the subtraction is \",num1-num2)\n",
    "print(\"the multiplication is \",num1*num2)\n",
    "print(\"the division is \",num1/num2)"
   ]
  },
  {
   "cell_type": "markdown",
   "metadata": {},
   "source": [
    "17.Write a  program to find an employee total salary if basic=8000, ta=500, da=700 &hra=2000"
   ]
  },
  {
   "cell_type": "code",
   "execution_count": 5,
   "metadata": {},
   "outputs": [
    {
     "name": "stdout",
     "output_type": "stream",
     "text": [
      "total salary   11200\n"
     ]
    }
   ],
   "source": [
    "basic=8000\n",
    "ta=500\n",
    "da=700\n",
    "hra=2000\n",
    "total_salary=(basic+ta+da+hra)\n",
    "print(\"total salary  \",total_salary)"
   ]
  },
  {
   "cell_type": "markdown",
   "metadata": {},
   "source": [
    "Write a ‘C’ program to find an employee total salary if basic=8000, ta=500, da=700 &hra=2000"
   ]
  },
  {
   "cell_type": "code",
   "execution_count": null,
   "metadata": {},
   "outputs": [],
   "source": []
  },
  {
   "cell_type": "markdown",
   "metadata": {},
   "source": [
    "Write a ‘C’ program to find an employee total salary"
   ]
  },
  {
   "cell_type": "code",
   "execution_count": null,
   "metadata": {},
   "outputs": [],
   "source": []
  },
  {
   "cell_type": "markdown",
   "metadata": {},
   "source": [
    "Write a ‘C’ program to find an employee total salary  if ta = 10%, da = 15% and hra=30% of basic "
   ]
  },
  {
   "cell_type": "code",
   "execution_count": null,
   "metadata": {},
   "outputs": [],
   "source": []
  },
  {
   "cell_type": "markdown",
   "metadata": {},
   "source": [
    "Write a ‘C’ program to find an employee net salary if basic=10000, ta=700, da=1200, hra=3000,  it=1000, pf=500 and lic=800"
   ]
  },
  {
   "cell_type": "code",
   "execution_count": null,
   "metadata": {},
   "outputs": [],
   "source": []
  },
  {
   "cell_type": "markdown",
   "metadata": {},
   "source": [
    "Write a ‘C’ program to find to find an employee net salary"
   ]
  },
  {
   "cell_type": "code",
   "execution_count": null,
   "metadata": {},
   "outputs": [],
   "source": []
  }
 ],
 "metadata": {
  "kernelspec": {
   "display_name": "Python 3",
   "language": "python",
   "name": "python3"
  },
  "language_info": {
   "codemirror_mode": {
    "name": "ipython",
    "version": 3
   },
   "file_extension": ".py",
   "mimetype": "text/x-python",
   "name": "python",
   "nbconvert_exporter": "python",
   "pygments_lexer": "ipython3",
   "version": "3.11.6"
  }
 },
 "nbformat": 4,
 "nbformat_minor": 2
}
