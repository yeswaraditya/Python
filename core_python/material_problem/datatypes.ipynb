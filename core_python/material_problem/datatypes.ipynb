{
 "cells": [
  {
   "cell_type": "markdown",
   "metadata": {},
   "source": [
    "Python contains the following inbuilt data types\n",
    "1) Int\n",
    "2) Float\n",
    "3) Complex\n",
    "4) Bool\n",
    "5) Str\n",
    "6) Byte\n",
    "7) Bytearray\n",
    "8) Range\n",
    "9) List\n",
    "10) Tuple\n",
    "11) Set\n",
    "12) Frozenset\n",
    "13) Dict\n",
    "14) None"
   ]
  },
  {
   "cell_type": "markdown",
   "metadata": {},
   "source": [
    "Python contains several in-built Functions\n",
    "1) type() : to check the type of variable\n",
    "2) id() : to get address of object\n",
    "3) print() : to print the value\n",
    "In Python everything is an Object."
   ]
  },
  {
   "cell_type": "markdown",
   "metadata": {},
   "source": [
    "int Data Type:\n",
    "We can represent int values in the following ways\n",
    "1) Decimal Form\n",
    "2) Binary Form\n",
    "3) Octal Form\n",
    "4) Hexa Decimal Form\n"
   ]
  },
  {
   "cell_type": "markdown",
   "metadata": {},
   "source": [
    "I) Decimal Form (Base -10):"
   ]
  },
  {
   "cell_type": "code",
   "execution_count": null,
   "metadata": {},
   "outputs": [],
   "source": [
    "a=10 #correct"
   ]
  },
  {
   "cell_type": "markdown",
   "metadata": {},
   "source": [
    "II) Binary Form (Base -2):\n",
    "  1) The allowed digits are: 0 & 1\n",
    "  2) Literal value should be prefixed with 0b or 0B"
   ]
  },
  {
   "cell_type": "code",
   "execution_count": null,
   "metadata": {},
   "outputs": [],
   "source": [
    "a=0B111 #correct\n",
    "a=0b111 #correct\n",
    "a = b111 #invalid"
   ]
  },
  {
   "cell_type": "markdown",
   "metadata": {},
   "source": [
    "III) Octal Form (Base -8):\n",
    "1) The allowed digits are: 0 to 7\n",
    "2) Literal value should be prefixed with 0o or 0O."
   ]
  },
  {
   "cell_type": "code",
   "execution_count": null,
   "metadata": {},
   "outputs": [],
   "source": [
    "a=0O123 #correct\n",
    "a=0o111 #correct\n",
    "a = 0O786 #invalid because 0 to 7 are only available"
   ]
  },
  {
   "cell_type": "markdown",
   "metadata": {},
   "source": [
    "IV) HexaDecimal Form (Base -16):\n",
    "1) The allowed digits are: 0 to 9, a-f (both lower and upper case are allowed)\n",
    "2) Literal value should be prefixed with 0x or 0X"
   ]
  },
  {
   "cell_type": "code",
   "execution_count": null,
   "metadata": {},
   "outputs": [],
   "source": [
    "a = 0XFACE #correct\n",
    "a = 0XBeef #correct\n",
    "a = 0XBeer #Invalid because r is not allowed"
   ]
  },
  {
   "cell_type": "markdown",
   "metadata": {},
   "source": [
    "Note: Being a Programmer we can specify literal values in decimal, binary, octal and hexa decimal\n",
    "forms. But PVM will always provide values only in decimal form.\n",
    "1) a=10\n",
    "2) b=0o10\n",
    "3) c=0x10\n",
    "4) d=0B10\n",
    "5) print(a) #10\n",
    "6) print(b) #8\n",
    "7) print(c) #16\n",
    "8) print(d) #2"
   ]
  },
  {
   "cell_type": "markdown",
   "metadata": {},
   "source": [
    "Base Conversions:"
   ]
  },
  {
   "cell_type": "code",
   "execution_count": 6,
   "metadata": {},
   "outputs": [
    {
     "data": {
      "text/plain": [
       "'0b1001'"
      ]
     },
     "execution_count": 6,
     "metadata": {},
     "output_type": "execute_result"
    }
   ],
   "source": [
    "bin(123)\n"
   ]
  },
  {
   "cell_type": "code",
   "execution_count": 7,
   "metadata": {},
   "outputs": [
    {
     "data": {
      "text/plain": [
       "'0b1001'"
      ]
     },
     "execution_count": 7,
     "metadata": {},
     "output_type": "execute_result"
    }
   ],
   "source": [
    "bin(0o11)"
   ]
  },
  {
   "cell_type": "code",
   "execution_count": 8,
   "metadata": {},
   "outputs": [
    {
     "data": {
      "text/plain": [
       "'0b10000'"
      ]
     },
     "execution_count": 8,
     "metadata": {},
     "output_type": "execute_result"
    }
   ],
   "source": [
    "bin(0X10)"
   ]
  },
  {
   "cell_type": "code",
   "execution_count": 2,
   "metadata": {},
   "outputs": [
    {
     "data": {
      "text/plain": [
       "'0o352'"
      ]
     },
     "execution_count": 2,
     "metadata": {},
     "output_type": "execute_result"
    }
   ],
   "source": [
    "oct(234)"
   ]
  },
  {
   "cell_type": "code",
   "execution_count": 9,
   "metadata": {},
   "outputs": [
    {
     "data": {
      "text/plain": [
       "'0o5'"
      ]
     },
     "execution_count": 9,
     "metadata": {},
     "output_type": "execute_result"
    }
   ],
   "source": [
    "oct(0B101)"
   ]
  },
  {
   "cell_type": "code",
   "execution_count": 10,
   "metadata": {},
   "outputs": [
    {
     "data": {
      "text/plain": [
       "'0o443'"
      ]
     },
     "execution_count": 10,
     "metadata": {},
     "output_type": "execute_result"
    }
   ],
   "source": [
    "oct(0X123)"
   ]
  },
  {
   "cell_type": "code",
   "execution_count": 11,
   "metadata": {},
   "outputs": [
    {
     "data": {
      "text/plain": [
       "'0x64'"
      ]
     },
     "execution_count": 11,
     "metadata": {},
     "output_type": "execute_result"
    }
   ],
   "source": [
    "hex(100)"
   ]
  },
  {
   "cell_type": "code",
   "execution_count": 12,
   "metadata": {},
   "outputs": [
    {
     "data": {
      "text/plain": [
       "'0x5'"
      ]
     },
     "execution_count": 12,
     "metadata": {},
     "output_type": "execute_result"
    }
   ],
   "source": [
    "hex(0B101)"
   ]
  },
  {
   "cell_type": "code",
   "execution_count": 13,
   "metadata": {},
   "outputs": [
    {
     "data": {
      "text/plain": [
       "'0x2d3'"
      ]
     },
     "execution_count": 13,
     "metadata": {},
     "output_type": "execute_result"
    }
   ],
   "source": [
    "hex(0O1323)"
   ]
  },
  {
   "cell_type": "markdown",
   "metadata": {},
   "source": [
    "2) Float Data Type:\n",
    "\n",
    "\n",
    " 1) We can use float data type to represent floating point values(decimal values)\n",
    "   Eg: f= 1.234\n",
    "   type(f) #float\n",
    " 2) We can also represent floating point values by     using     exponential form (Scientific Notation)\n",
    " Eg: f=1.2e3  instead of ‘e’ we can use ‘E’\n",
    "  print(f) 1200.0\n",
    " 3) The main advantage of exponential form is we can represent big values in less memory."
   ]
  },
  {
   "cell_type": "code",
   "execution_count": 14,
   "metadata": {},
   "outputs": [
    {
     "ename": "SyntaxError",
     "evalue": "invalid syntax (99532902.py, line 1)",
     "output_type": "error",
     "traceback": [
      "\u001b[0;36m  Cell \u001b[0;32mIn[14], line 1\u001b[0;36m\u001b[0m\n\u001b[0;31m    f=0B11.01\u001b[0m\n\u001b[0m          ^\u001b[0m\n\u001b[0;31mSyntaxError\u001b[0m\u001b[0;31m:\u001b[0m invalid syntax\n"
     ]
    }
   ],
   "source": [
    " f=0B11.01 #invalid because we can only represent in decimal form"
   ]
  },
  {
   "cell_type": "code",
   "execution_count": null,
   "metadata": {},
   "outputs": [],
   "source": [
    "      f=0o123.456 #invalid because we can only represent in decimal form"
   ]
  },
  {
   "cell_type": "code",
   "execution_count": 15,
   "metadata": {},
   "outputs": [],
   "source": [
    "f=32312.123 #correct"
   ]
  },
  {
   "cell_type": "markdown",
   "metadata": {},
   "source": [
    "3) Complex Data Type:\n",
    "\n",
    "\n",
    "  1)  In the real part if we use int value then we can specify that either by decimal, octal, binary or\n",
    "  hexa decimal form.\n",
    "\n",
    "  2)  But Imaginary part should be specified only by using decimal form.\n"
   ]
  },
  {
   "cell_type": "code",
   "execution_count": 16,
   "metadata": {},
   "outputs": [],
   "source": [
    "a=0b101+5j #correct"
   ]
  },
  {
   "cell_type": "code",
   "execution_count": 17,
   "metadata": {},
   "outputs": [],
   "source": [
    "a=0x10F+34j #correct"
   ]
  },
  {
   "cell_type": "code",
   "execution_count": null,
   "metadata": {},
   "outputs": [],
   "source": [
    "a=2332+0b101j #invalid because bin,oct,hex are only to be used in real part"
   ]
  },
  {
   "cell_type": "markdown",
   "metadata": {},
   "source": [
    "Even we can perform operations on complex type values."
   ]
  },
  {
   "cell_type": "code",
   "execution_count": 18,
   "metadata": {},
   "outputs": [
    {
     "name": "stdout",
     "output_type": "stream",
     "text": [
      "(1313+39.34j)\n"
     ]
    }
   ],
   "source": [
    "a=101+5j\n",
    "b=1212+34.34j\n",
    "print(a+b)"
   ]
  },
  {
   "cell_type": "markdown",
   "metadata": {},
   "source": [
    "Complex data type has some inbuilt attributes to retrieve the real part and imaginary part\n",
    " 1)      .real\n",
    " 2)      .imag"
   ]
  },
  {
   "cell_type": "code",
   "execution_count": 21,
   "metadata": {},
   "outputs": [
    {
     "name": "stdout",
     "output_type": "stream",
     "text": [
      "23434.0\n",
      "324.234\n"
     ]
    }
   ],
   "source": [
    "a=23434+324.234j\n",
    "a.real\n",
    "print(a.real)\n",
    "print(a.imag)"
   ]
  },
  {
   "cell_type": "markdown",
   "metadata": {},
   "source": [
    "4) bool Data Type:\n",
    "   1) We can use this data type to represent Boolean values.\n",
    "   2) The only allowed values for this data type are:\n",
    "   3) True and False\n",
    "   4) Internally Python represent True as 1 and False as 0"
   ]
  },
  {
   "cell_type": "code",
   "execution_count": 22,
   "metadata": {},
   "outputs": [
    {
     "name": "stdout",
     "output_type": "stream",
     "text": [
      "True\n"
     ]
    }
   ],
   "source": [
    "a=10\n",
    "b=20\n",
    "c= a<b\n",
    "print(c)"
   ]
  },
  {
   "cell_type": "markdown",
   "metadata": {},
   "source": [
    "5) str Data Type:\n",
    "   1) str represent String data type.\n",
    "   2) A string is a sequence of characters enclosed within single quotes or double quotes.\n",
    "   3) S1= ‘aditya’\n",
    "   4) S1=”aditya”\n",
    "   5) By using single quotes or double quotes we cannot represent multi line string literals."
   ]
  },
  {
   "cell_type": "code",
   "execution_count": 24,
   "metadata": {},
   "outputs": [
    {
     "name": "stdout",
     "output_type": "stream",
     "text": [
      " this is \n",
      " example \n"
     ]
    }
   ],
   "source": [
    "#for multiline strings triple quotes are to be used \n",
    "s1=\"\"\" this is \n",
    " example \"\"\"\n",
    " \n",
    "print(s1)"
   ]
  },
  {
   "cell_type": "markdown",
   "metadata": {},
   "source": [
    "1) 'class by 'aditya' is very good'     (it not valid)\n",
    "<br>\n",
    "\n",
    "2) \"class by 'aditya' is very good\"     (it is valid)\n",
    "<br>\n",
    "\n",
    "3) \"class by \"aditya\" is very good\"     (it not valid)\n",
    "<br>\n",
    "\n",
    "4) 'class by \"aditya\" is very good'     (it is valid)\n",
    "<br>\n",
    "\n",
    "5) 'classes by 'aditya' for \"python\" are very good'(it not   valid)\n",
    "<br>\n",
    "\n",
    "6) '''classes by 'naresh' for \"python\" are very good'''(it is valid)"
   ]
  },
  {
   "cell_type": "markdown",
   "metadata": {},
   "source": [
    "Slicing of Strings:\n",
    "\n",
    "1. Slice means a piece\n",
    "\n",
    "2. [ ] operator is called slice operator, which can be used to retrieve parts of String.\n",
    "\n",
    "3. In Python Strings follows zero based index.\n",
    "\n",
    "4. The index can be either +ve or –ve.\n",
    "\n",
    "5. +ve index means forward direction from Left to Right.\n",
    "\n",
    "6. –ve index means backward direction from Right to Left"
   ]
  },
  {
   "cell_type": "code",
   "execution_count": 30,
   "metadata": {},
   "outputs": [
    {
     "name": "stdout",
     "output_type": "stream",
     "text": [
      "a\n",
      "d\n",
      "i\n",
      "\n",
      "a\n",
      "y\n",
      "t\n"
     ]
    }
   ],
   "source": [
    "s1=\"aditya\"\n",
    "print(s1[0])\n",
    "print(s1[1])\n",
    "print(s1[2])\n",
    "print(\"\")\n",
    "print(s1[-1])\n",
    "print(s1[-2])\n",
    "print(s1[-3])\n",
    "\n",
    "# Accessing elements using indices out of range\n",
    "# print(s1[40])\n",
    "#output = string index out of range"
   ]
  },
  {
   "cell_type": "code",
   "execution_count": 36,
   "metadata": {},
   "outputs": [
    {
     "name": "stdout",
     "output_type": "stream",
     "text": [
      "aditya\n",
      "adity\n",
      "dity\n",
      "ity\n",
      "ditya\n",
      "ad\n",
      "adityaadityaaditya\n",
      "6\n"
     ]
    }
   ],
   "source": [
    "s1=\"aditya\"\n",
    "print(s1[:]) \n",
    "print(s1[0:5])\n",
    "print(s1[1:5])\n",
    "print(s1[2:5])\n",
    "print(s1[1:20])\n",
    "print(s1[:2])\n",
    "print(s1*3)\n",
    "print(len(s1))\n",
    " \n"
   ]
  },
  {
   "cell_type": "markdown",
   "metadata": {},
   "source": [
    "Note:\n",
    "1) In python the following data types are considered as Fundamental Data types\n",
    " 1) int\n",
    " 2) float\n",
    " 3) complex\n",
    " 4) bool\n",
    " 5) str (string)\n",
    "\n",
    "2) In Python, we can represent char values also by using str type and explicitly char type is not\n",
    "available.\n",
    ">>> c='a'\n",
    " \n",
    ">>> type(c)\n",
    "\n",
    ">>> <class 'str'>\n",
    "\n",
    "3) Long Data type is available in Python2 but not in Python3. In Python3 long values also we can\n",
    "represent by using int type only.\n",
    "4) In Python we can present char values also by using str Type and explicitly char Type is not\n",
    "available."
   ]
  }
 ],
 "metadata": {
  "kernelspec": {
   "display_name": "Python 3",
   "language": "python",
   "name": "python3"
  },
  "language_info": {
   "codemirror_mode": {
    "name": "ipython",
    "version": 3
   },
   "file_extension": ".py",
   "mimetype": "text/x-python",
   "name": "python",
   "nbconvert_exporter": "python",
   "pygments_lexer": "ipython3",
   "version": "3.11.6"
  }
 },
 "nbformat": 4,
 "nbformat_minor": 2
}
