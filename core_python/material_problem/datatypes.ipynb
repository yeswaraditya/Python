{
 "cells": [
  {
   "cell_type": "markdown",
   "metadata": {},
   "source": [
    "Python contains the following inbuilt data types\n",
    "1) Int\n",
    "2) Float\n",
    "3) Complex\n",
    "4) Bool\n",
    "5) Str\n",
    "6) Byte\n",
    "7) Bytearray\n",
    "8) Range\n",
    "9) List\n",
    "10) Tuple\n",
    "11) Set\n",
    "12) Frozenset\n",
    "13) Dict\n",
    "14) None"
   ]
  },
  {
   "cell_type": "markdown",
   "metadata": {},
   "source": [
    "Python contains several in-built Functions\n",
    "1) type() : to check the type of variable\n",
    "2) id() : to get address of object\n",
    "3) print() : to print the value\n",
    "In Python everything is an Object."
   ]
  },
  {
   "cell_type": "markdown",
   "metadata": {},
   "source": [
    "int Data Type:\n",
    "We can represent int values in the following ways\n",
    "1) Decimal Form\n",
    "2) Binary Form\n",
    "3) Octal Form\n",
    "4) Hexa Decimal Form\n"
   ]
  },
  {
   "cell_type": "markdown",
   "metadata": {},
   "source": [
    "I) Decimal Form (Base -10):"
   ]
  },
  {
   "cell_type": "code",
   "execution_count": null,
   "metadata": {},
   "outputs": [],
   "source": [
    "a=10 #correct"
   ]
  },
  {
   "cell_type": "markdown",
   "metadata": {},
   "source": [
    "II) Binary Form (Base -2):\n",
    "  1) The allowed digits are: 0 & 1\n",
    "  2) Literal value should be prefixed with 0b or 0B"
   ]
  },
  {
   "cell_type": "code",
   "execution_count": null,
   "metadata": {},
   "outputs": [],
   "source": [
    "a=0B111 #correct\n",
    "a=0b111 #correct\n",
    "a = b111 #invalid"
   ]
  },
  {
   "cell_type": "markdown",
   "metadata": {},
   "source": [
    "III) Octal Form (Base -8):\n",
    "1) The allowed digits are: 0 to 7\n",
    "2) Literal value should be prefixed with 0o or 0O."
   ]
  },
  {
   "cell_type": "code",
   "execution_count": null,
   "metadata": {},
   "outputs": [],
   "source": [
    "a=0O123 #correct\n",
    "a=0o111 #correct\n",
    "a = 0O786 #invalid because 0 to 7 are only available"
   ]
  },
  {
   "cell_type": "markdown",
   "metadata": {},
   "source": [
    "IV) HexaDecimal Form (Base -16):\n",
    "1) The allowed digits are: 0 to 9, a-f (both lower and upper case are allowed)\n",
    "2) Literal value should be prefixed with 0x or 0X"
   ]
  },
  {
   "cell_type": "code",
   "execution_count": null,
   "metadata": {},
   "outputs": [],
   "source": [
    "a = 0XFACE #correct\n",
    "a = 0XBeef #correct\n",
    "a = 0XBeer #Invalid because r is not allowed"
   ]
  },
  {
   "cell_type": "markdown",
   "metadata": {},
   "source": [
    "Note: Being a Programmer we can specify literal values in decimal, binary, octal and hexa decimal\n",
    "forms. But PVM will always provide values only in decimal form.\n",
    "1) a=10\n",
    "2) b=0o10\n",
    "3) c=0x10\n",
    "4) d=0B10\n",
    "5) print(a) #10\n",
    "6) print(b) #8\n",
    "7) print(c) #16\n",
    "8) print(d) #2"
   ]
  },
  {
   "cell_type": "markdown",
   "metadata": {},
   "source": [
    "Base Conversions:"
   ]
  },
  {
   "cell_type": "code",
   "execution_count": 6,
   "metadata": {},
   "outputs": [
    {
     "data": {
      "text/plain": [
       "'0b1001'"
      ]
     },
     "execution_count": 6,
     "metadata": {},
     "output_type": "execute_result"
    }
   ],
   "source": [
    "bin(123)\n"
   ]
  },
  {
   "cell_type": "code",
   "execution_count": 7,
   "metadata": {},
   "outputs": [
    {
     "data": {
      "text/plain": [
       "'0b1001'"
      ]
     },
     "execution_count": 7,
     "metadata": {},
     "output_type": "execute_result"
    }
   ],
   "source": [
    "bin(0o11)"
   ]
  },
  {
   "cell_type": "code",
   "execution_count": 8,
   "metadata": {},
   "outputs": [
    {
     "data": {
      "text/plain": [
       "'0b10000'"
      ]
     },
     "execution_count": 8,
     "metadata": {},
     "output_type": "execute_result"
    }
   ],
   "source": [
    "bin(0X10)"
   ]
  },
  {
   "cell_type": "code",
   "execution_count": 2,
   "metadata": {},
   "outputs": [
    {
     "data": {
      "text/plain": [
       "'0o352'"
      ]
     },
     "execution_count": 2,
     "metadata": {},
     "output_type": "execute_result"
    }
   ],
   "source": [
    "oct(234)"
   ]
  },
  {
   "cell_type": "code",
   "execution_count": 9,
   "metadata": {},
   "outputs": [
    {
     "data": {
      "text/plain": [
       "'0o5'"
      ]
     },
     "execution_count": 9,
     "metadata": {},
     "output_type": "execute_result"
    }
   ],
   "source": [
    "oct(0B101)"
   ]
  },
  {
   "cell_type": "code",
   "execution_count": 10,
   "metadata": {},
   "outputs": [
    {
     "data": {
      "text/plain": [
       "'0o443'"
      ]
     },
     "execution_count": 10,
     "metadata": {},
     "output_type": "execute_result"
    }
   ],
   "source": [
    "oct(0X123)"
   ]
  },
  {
   "cell_type": "code",
   "execution_count": 11,
   "metadata": {},
   "outputs": [
    {
     "data": {
      "text/plain": [
       "'0x64'"
      ]
     },
     "execution_count": 11,
     "metadata": {},
     "output_type": "execute_result"
    }
   ],
   "source": [
    "hex(100)"
   ]
  },
  {
   "cell_type": "code",
   "execution_count": 12,
   "metadata": {},
   "outputs": [
    {
     "data": {
      "text/plain": [
       "'0x5'"
      ]
     },
     "execution_count": 12,
     "metadata": {},
     "output_type": "execute_result"
    }
   ],
   "source": [
    "hex(0B101)"
   ]
  },
  {
   "cell_type": "code",
   "execution_count": 13,
   "metadata": {},
   "outputs": [
    {
     "data": {
      "text/plain": [
       "'0x2d3'"
      ]
     },
     "execution_count": 13,
     "metadata": {},
     "output_type": "execute_result"
    }
   ],
   "source": [
    "hex(0O1323)"
   ]
  },
  {
   "cell_type": "markdown",
   "metadata": {},
   "source": [
    "2) Float Data Type:\n",
    "\n",
    "\n",
    " 1) We can use float data type to represent floating point values(decimal values)\n",
    "   Eg: f= 1.234\n",
    "   type(f) #float\n",
    " 2) We can also represent floating point values by     using     exponential form (Scientific Notation)\n",
    " Eg: f=1.2e3  instead of ‘e’ we can use ‘E’\n",
    "  print(f) 1200.0\n",
    " 3) The main advantage of exponential form is we can represent big values in less memory."
   ]
  },
  {
   "cell_type": "code",
   "execution_count": 14,
   "metadata": {},
   "outputs": [
    {
     "ename": "SyntaxError",
     "evalue": "invalid syntax (99532902.py, line 1)",
     "output_type": "error",
     "traceback": [
      "\u001b[0;36m  Cell \u001b[0;32mIn[14], line 1\u001b[0;36m\u001b[0m\n\u001b[0;31m    f=0B11.01\u001b[0m\n\u001b[0m          ^\u001b[0m\n\u001b[0;31mSyntaxError\u001b[0m\u001b[0;31m:\u001b[0m invalid syntax\n"
     ]
    }
   ],
   "source": [
    " f=0B11.01 #invalid because we can only represent in decimal form"
   ]
  },
  {
   "cell_type": "code",
   "execution_count": null,
   "metadata": {},
   "outputs": [],
   "source": [
    "      f=0o123.456 #invalid because we can only represent in decimal form"
   ]
  },
  {
   "cell_type": "code",
   "execution_count": 15,
   "metadata": {},
   "outputs": [],
   "source": [
    "f=32312.123 #correct"
   ]
  },
  {
   "cell_type": "markdown",
   "metadata": {},
   "source": [
    "3) Complex Data Type:\n",
    "\n",
    "\n",
    "  1)  In the real part if we use int value then we can specify that either by decimal, octal, binary or\n",
    "  hexa decimal form.\n",
    "\n",
    "  2)  But Imaginary part should be specified only by using decimal form.\n"
   ]
  },
  {
   "cell_type": "code",
   "execution_count": 16,
   "metadata": {},
   "outputs": [],
   "source": [
    "a=0b101+5j #correct"
   ]
  },
  {
   "cell_type": "code",
   "execution_count": 17,
   "metadata": {},
   "outputs": [],
   "source": [
    "a=0x10F+34j #correct"
   ]
  },
  {
   "cell_type": "code",
   "execution_count": null,
   "metadata": {},
   "outputs": [],
   "source": [
    "a=2332+0b101j #invalid because bin,oct,hex are only to be used in real part"
   ]
  },
  {
   "cell_type": "markdown",
   "metadata": {},
   "source": [
    "Even we can perform operations on complex type values."
   ]
  },
  {
   "cell_type": "code",
   "execution_count": 18,
   "metadata": {},
   "outputs": [
    {
     "name": "stdout",
     "output_type": "stream",
     "text": [
      "(1313+39.34j)\n"
     ]
    }
   ],
   "source": [
    "a=101+5j\n",
    "b=1212+34.34j\n",
    "print(a+b)"
   ]
  },
  {
   "cell_type": "markdown",
   "metadata": {},
   "source": [
    "Complex data type has some inbuilt attributes to retrieve the real part and imaginary part\n",
    " 1)      .real\n",
    " 2)      .imag"
   ]
  },
  {
   "cell_type": "code",
   "execution_count": 21,
   "metadata": {},
   "outputs": [
    {
     "name": "stdout",
     "output_type": "stream",
     "text": [
      "23434.0\n",
      "324.234\n"
     ]
    }
   ],
   "source": [
    "a=23434+324.234j\n",
    "a.real\n",
    "print(a.real)\n",
    "print(a.imag)"
   ]
  },
  {
   "cell_type": "markdown",
   "metadata": {},
   "source": [
    "4) bool Data Type:\n",
    "   1) We can use this data type to represent Boolean values.\n",
    "   2) The only allowed values for this data type are:\n",
    "   3) True and False\n",
    "   4) Internally Python represent True as 1 and False as 0"
   ]
  },
  {
   "cell_type": "code",
   "execution_count": 22,
   "metadata": {},
   "outputs": [
    {
     "name": "stdout",
     "output_type": "stream",
     "text": [
      "True\n"
     ]
    }
   ],
   "source": [
    "a=10\n",
    "b=20\n",
    "c= a<b\n",
    "print(c)"
   ]
  },
  {
   "cell_type": "markdown",
   "metadata": {},
   "source": [
    "5) str Data Type:\n",
    "   1) str represent String data type.\n",
    "   2) A string is a sequence of characters enclosed within single quotes or double quotes.\n",
    "   3) S1= ‘aditya’\n",
    "   4) S1=”aditya”\n",
    "   5) By using single quotes or double quotes we cannot represent multi line string literals."
   ]
  },
  {
   "cell_type": "code",
   "execution_count": 24,
   "metadata": {},
   "outputs": [
    {
     "name": "stdout",
     "output_type": "stream",
     "text": [
      " this is \n",
      " example \n"
     ]
    }
   ],
   "source": [
    "#for multiline strings triple quotes are to be used \n",
    "s1=\"\"\" this is \n",
    " example \"\"\"\n",
    " \n",
    "print(s1)"
   ]
  },
  {
   "cell_type": "markdown",
   "metadata": {},
   "source": [
    "1) 'class by 'aditya' is very good'     (it not valid)\n",
    "<br>\n",
    "\n",
    "2) \"class by 'aditya' is very good\"     (it is valid)\n",
    "<br>\n",
    "\n",
    "3) \"class by \"aditya\" is very good\"     (it not valid)\n",
    "<br>\n",
    "\n",
    "4) 'class by \"aditya\" is very good'     (it is valid)\n",
    "<br>\n",
    "\n",
    "5) 'classes by 'aditya' for \"python\" are very good'(it not   valid)\n",
    "<br>\n",
    "\n",
    "6) '''classes by 'naresh' for \"python\" are very good'''(it is valid)"
   ]
  },
  {
   "cell_type": "markdown",
   "metadata": {},
   "source": [
    "Slicing of Strings:\n",
    "\n",
    "1. Slice means a piece\n",
    "\n",
    "2. [ ] operator is called slice operator, which can be used to retrieve parts of String.\n",
    "\n",
    "3. In Python Strings follows zero based index.\n",
    "\n",
    "4. The index can be either +ve or –ve.\n",
    "\n",
    "5. +ve index means forward direction from Left to Right.\n",
    "\n",
    "6. –ve index means backward direction from Right to Left"
   ]
  },
  {
   "cell_type": "code",
   "execution_count": 30,
   "metadata": {},
   "outputs": [
    {
     "name": "stdout",
     "output_type": "stream",
     "text": [
      "a\n",
      "d\n",
      "i\n",
      "\n",
      "a\n",
      "y\n",
      "t\n"
     ]
    }
   ],
   "source": [
    "s1=\"aditya\"\n",
    "print(s1[0])\n",
    "print(s1[1])\n",
    "print(s1[2])\n",
    "print(\"\")\n",
    "print(s1[-1])\n",
    "print(s1[-2])\n",
    "print(s1[-3])\n",
    "\n",
    "# Accessing elements using indices out of range\n",
    "# print(s1[40])\n",
    "#output = string index out of range"
   ]
  },
  {
   "cell_type": "code",
   "execution_count": 36,
   "metadata": {},
   "outputs": [
    {
     "name": "stdout",
     "output_type": "stream",
     "text": [
      "aditya\n",
      "adity\n",
      "dity\n",
      "ity\n",
      "ditya\n",
      "ad\n",
      "adityaadityaaditya\n",
      "6\n"
     ]
    }
   ],
   "source": [
    "s1=\"aditya\"\n",
    "print(s1[:]) \n",
    "print(s1[0:5])\n",
    "print(s1[1:5])\n",
    "print(s1[2:5])\n",
    "print(s1[1:20])\n",
    "print(s1[:2])\n",
    "print(s1*3)\n",
    "print(len(s1))\n",
    " \n"
   ]
  },
  {
   "cell_type": "markdown",
   "metadata": {},
   "source": [
    "Note:\n",
    "1) In python the following data types are considered as Fundamental Data types\n",
    " 1) int\n",
    " 2) float\n",
    " 3) complex\n",
    " 4) bool\n",
    " 5) str (string)\n",
    "\n",
    "2) In Python, we can represent char values also by using str type and explicitly char type is not\n",
    "available.\n",
    ">>> c='a'\n",
    " \n",
    ">>> type(c)\n",
    "\n",
    ">>> <class 'str'>\n",
    "\n",
    "3) Long Data type is available in Python2 but not in Python3. In Python3 long values also we can\n",
    "represent by using int type only.\n",
    "4) In Python we can present char values also by using str Type and explicitly char Type is not\n",
    "available."
   ]
  },
  {
   "cell_type": "markdown",
   "metadata": {},
   "source": [
    "TYPE CASTING\n",
    " 1) We can convert one type value to another type. This conversion is called Typecasting or Type\n",
    " coersion.\n",
    " 2) The following are various inbuilt functions for type   casting.\n",
    "1) int()\n",
    "2) float()\n",
    "3) complex()\n",
    "4) bool()\n",
    "5) srt()"
   ]
  },
  {
   "cell_type": "code",
   "execution_count": 37,
   "metadata": {},
   "outputs": [
    {
     "data": {
      "text/plain": [
       "10"
      ]
     },
     "execution_count": 37,
     "metadata": {},
     "output_type": "execute_result"
    }
   ],
   "source": [
    "int(10.5)"
   ]
  },
  {
   "cell_type": "code",
   "execution_count": 38,
   "metadata": {},
   "outputs": [
    {
     "data": {
      "text/plain": [
       "11"
      ]
     },
     "execution_count": 38,
     "metadata": {},
     "output_type": "execute_result"
    }
   ],
   "source": [
    "int(0b1011)"
   ]
  },
  {
   "cell_type": "code",
   "execution_count": 39,
   "metadata": {},
   "outputs": [
    {
     "ename": "TypeError",
     "evalue": "int() argument must be a string, a bytes-like object or a real number, not 'complex'",
     "output_type": "error",
     "traceback": [
      "\u001b[0;31m---------------------------------------------------------------------------\u001b[0m",
      "\u001b[0;31mTypeError\u001b[0m                                 Traceback (most recent call last)",
      "Cell \u001b[0;32mIn[39], line 1\u001b[0m\n\u001b[0;32m----> 1\u001b[0m \u001b[38;5;28;43mint\u001b[39;49m\u001b[43m(\u001b[49m\u001b[38;5;241;43m10\u001b[39;49m\u001b[38;5;241;43m+\u001b[39;49m\u001b[38;5;241;43m5\u001b[39;49m\u001b[43mj\u001b[49m\u001b[43m)\u001b[49m\n",
      "\u001b[0;31mTypeError\u001b[0m: int() argument must be a string, a bytes-like object or a real number, not 'complex'"
     ]
    }
   ],
   "source": [
    "int(10+5j) #invalid complex datatype can't be converted"
   ]
  },
  {
   "cell_type": "code",
   "execution_count": 40,
   "metadata": {},
   "outputs": [
    {
     "data": {
      "text/plain": [
       "10"
      ]
     },
     "execution_count": 40,
     "metadata": {},
     "output_type": "execute_result"
    }
   ],
   "source": [
    "int(\"10\") #correct because str in for of base10 can be converted"
   ]
  },
  {
   "cell_type": "code",
   "execution_count": 41,
   "metadata": {},
   "outputs": [
    {
     "ename": "ValueError",
     "evalue": "invalid literal for int() with base 10: '234.23432'",
     "output_type": "error",
     "traceback": [
      "\u001b[0;31m---------------------------------------------------------------------------\u001b[0m",
      "\u001b[0;31mValueError\u001b[0m                                Traceback (most recent call last)",
      "Cell \u001b[0;32mIn[41], line 1\u001b[0m\n\u001b[0;32m----> 1\u001b[0m \u001b[38;5;28;43mint\u001b[39;49m\u001b[43m(\u001b[49m\u001b[38;5;124;43m\"\u001b[39;49m\u001b[38;5;124;43m234.23432\u001b[39;49m\u001b[38;5;124;43m\"\u001b[39;49m\u001b[43m)\u001b[49m \u001b[38;5;66;03m#invalid because str in form of complex\u001b[39;00m\n",
      "\u001b[0;31mValueError\u001b[0m: invalid literal for int() with base 10: '234.23432'"
     ]
    }
   ],
   "source": [
    "int(\"234.23432\") #invalid because str in form of complex"
   ]
  },
  {
   "cell_type": "code",
   "execution_count": null,
   "metadata": {},
   "outputs": [],
   "source": [
    "int(\"0b10102\") #invalid because str in form of binary"
   ]
  },
  {
   "cell_type": "code",
   "execution_count": null,
   "metadata": {},
   "outputs": [],
   "source": [
    "int(\"ten\") #invalid literal for int() with base 10: 'ten'"
   ]
  },
  {
   "cell_type": "code",
   "execution_count": null,
   "metadata": {},
   "outputs": [],
   "source": [
    "# float(True) -> 1.0\n",
    "# float(False) -> 0.0"
   ]
  },
  {
   "cell_type": "markdown",
   "metadata": {},
   "source": [
    "Note:\n",
    "1) We can convert from any type to int except complex type\n",
    "2) If we want to convert str type to int type, compulsory str should contain only integral value and\n",
    "should be specified in base-10."
   ]
  },
  {
   "cell_type": "markdown",
   "metadata": {},
   "source": [
    "### float():"
   ]
  },
  {
   "cell_type": "code",
   "execution_count": 49,
   "metadata": {},
   "outputs": [
    {
     "data": {
      "text/plain": [
       "10.5"
      ]
     },
     "execution_count": 49,
     "metadata": {},
     "output_type": "execute_result"
    }
   ],
   "source": [
    "float(10)\n",
    "float(10.5)\n",
    "# float(10+5j) #invalid\n",
    "float(True)\n",
    "float(False)\n",
    "float(\"10\")\n",
    "# float(\"10+5j\") invalid\n",
    "float(\"10.5\")\n",
    "# float(\"ten\")\n",
    "# float(\"0B1111\") invalid"
   ]
  },
  {
   "cell_type": "markdown",
   "metadata": {},
   "source": [
    "Note:\n",
    "1) We can convert any type value to float type except complex type\n",
    "2) Whenever we are trying to convert str type to float type compulsory str should be either integral\n",
    "or floating point literal and should be specified only in base-10."
   ]
  },
  {
   "cell_type": "markdown",
   "metadata": {},
   "source": [
    "### complex():"
   ]
  },
  {
   "cell_type": "code",
   "execution_count": 50,
   "metadata": {},
   "outputs": [
    {
     "data": {
      "text/plain": [
       "(2+3j)"
      ]
     },
     "execution_count": 50,
     "metadata": {},
     "output_type": "execute_result"
    }
   ],
   "source": [
    "complex(10)\n",
    "# (10+0j)\n",
    "complex(10.5)\n",
    "# (10.5+0j)\n",
    "complex(True)\n",
    "# (1+0j)\n",
    "complex(False)\n",
    "# 0j\n",
    "complex(\"10\")\n",
    "# (10+0j)\n",
    "complex(\"10.5\")\n",
    "# (10.5+0j)\n",
    "\n",
    "# complex(\"ten\") invalid\n",
    "# ValueError: complex() arg is a malformed string\n",
    "\n",
    "complex(2,3)\n",
    "# (2+3j)\n",
    "\n",
    "complex(True,False)\n",
    "# (1+0j)"
   ]
  },
  {
   "cell_type": "markdown",
   "metadata": {},
   "source": [
    " #### bool()"
   ]
  },
  {
   "cell_type": "code",
   "execution_count": null,
   "metadata": {},
   "outputs": [],
   "source": [
    "bool(0)\n",
    "# False\n",
    "bool(1)\n",
    "# True\n",
    "bool(10)\n",
    "# True\n",
    "bool(10.5)\n",
    "# True\n",
    "bool(0.178)\n",
    "# True\n",
    "bool(0.0)\n",
    "# False\n",
    "bool(10-2j)\n",
    "# True\n",
    "bool(0+1.5j)\n",
    "# True\n",
    "bool(0+0j)\n",
    "# False\n",
    "bool(\"True\")\n",
    "# True\n",
    "bool(\"False\")\n",
    "# True\n",
    "bool(\"\")\n",
    "# False\n"
   ]
  },
  {
   "cell_type": "markdown",
   "metadata": {},
   "source": [
    "### str()"
   ]
  },
  {
   "cell_type": "code",
   "execution_count": null,
   "metadata": {},
   "outputs": [],
   "source": [
    "str(10)\n",
    "# '10'\n",
    "str(10.5)\n",
    "# '10.5'\n",
    "str(10+5j)\n",
    "# '(10+5j)'\n",
    "str(True)\n",
    "# 'True'\n"
   ]
  },
  {
   "cell_type": "markdown",
   "metadata": {},
   "source": [
    "### Byte Data Type():\n",
    "Byte data type represents a group of byte numbers just like an array."
   ]
  },
  {
   "cell_type": "code",
   "execution_count": 54,
   "metadata": {},
   "outputs": [
    {
     "name": "stdout",
     "output_type": "stream",
     "text": [
      "10\n",
      "\n",
      "10\n",
      "20\n",
      "30\n",
      "40\n",
      "50\n"
     ]
    }
   ],
   "source": [
    "x=[10,20,30,40,50]\n",
    "b=bytes(x)\n",
    "\n",
    "print(b[0])\n",
    "print(\"\")\n",
    "for i in x:\n",
    "    print(i)"
   ]
  },
  {
   "cell_type": "code",
   "execution_count": 52,
   "metadata": {},
   "outputs": [
    {
     "ename": "ValueError",
     "evalue": "bytes must be in range(0, 256)",
     "output_type": "error",
     "traceback": [
      "\u001b[0;31m---------------------------------------------------------------------------\u001b[0m",
      "\u001b[0;31mValueError\u001b[0m                                Traceback (most recent call last)",
      "Cell \u001b[0;32mIn[52], line 2\u001b[0m\n\u001b[1;32m      1\u001b[0m x\u001b[38;5;241m=\u001b[39m[\u001b[38;5;241m10\u001b[39m,\u001b[38;5;241m20\u001b[39m,\u001b[38;5;241m30\u001b[39m,\u001b[38;5;241m40\u001b[39m,\u001b[38;5;241m50\u001b[39m,\u001b[38;5;241m258\u001b[39m]\n\u001b[0;32m----> 2\u001b[0m b\u001b[38;5;241m=\u001b[39m\u001b[38;5;28;43mbytes\u001b[39;49m\u001b[43m(\u001b[49m\u001b[43mx\u001b[49m\u001b[43m)\u001b[49m\n\u001b[1;32m      4\u001b[0m \u001b[38;5;28mprint\u001b[39m(b[\u001b[38;5;241m-\u001b[39m\u001b[38;5;241m1\u001b[39m])\n",
      "\u001b[0;31mValueError\u001b[0m: bytes must be in range(0, 256)"
     ]
    }
   ],
   "source": [
    "# invalid because bytes must be in range(0, 256)\n",
    "x=[10,20,30,40,50,258]\n",
    "b=bytes(x)\n",
    "\n",
    "print(b[-1])\n"
   ]
  },
  {
   "cell_type": "code",
   "execution_count": null,
   "metadata": {},
   "outputs": [],
   "source": [
    "x=[10,20,30,40,50]\n",
    "b=bytes(x)\n",
    "\n",
    "b[0]=100  #invalid because  b is bytes not list"
   ]
  },
  {
   "cell_type": "markdown",
   "metadata": {},
   "source": [
    "###  bytearray Data Type():\n",
    "bytearray is exactly same as bytes data type except that its elements can be modified."
   ]
  },
  {
   "cell_type": "code",
   "execution_count": 107,
   "metadata": {},
   "outputs": [
    {
     "name": "stdout",
     "output_type": "stream",
     "text": [
      "100\n"
     ]
    }
   ],
   "source": [
    "x=[10,20,30,40,50]\n",
    "b=bytearray(x)\n",
    "\n",
    "\n",
    "b[0]=100  #change the first element of b to 100 valid because bytearry can be modified\n",
    "\n",
    "print(b[0])"
   ]
  },
  {
   "cell_type": "markdown",
   "metadata": {},
   "source": [
    "### List Data Type():\n",
    "If we want to represent a group of values as a single entity where insertion order required to\n",
    "preserve and duplicates are allowed then we should go for list data type."
   ]
  },
  {
   "cell_type": "code",
   "execution_count": 62,
   "metadata": {},
   "outputs": [
    {
     "name": "stdout",
     "output_type": "stream",
     "text": [
      "[10, 10.5, 'ten', True, (10+5j)]\n",
      "\n",
      "<class 'list'>\n",
      "\n",
      "5\n",
      "\n",
      "10.5\n",
      "[10, 10.5, 200, True, (10+5j)]\n",
      "[10, 10.5]\n",
      "\n",
      "10\n",
      "10.5\n",
      "200\n",
      "True\n",
      "(10+5j)\n"
     ]
    }
   ],
   "source": [
    "l=[10,10.5,\"ten\",True,10+5j]\n",
    "print(l)\n",
    "print(\"\")\n",
    "print(type(l))\n",
    "print(\"\")\n",
    "print(len(l))\n",
    "print(\"\")\n",
    "print(l[1])\n",
    "l[2]=200\n",
    "print(l)\n",
    "print(l[0:2])\n",
    "print(\"\")\n",
    "for i in l:\n",
    "    print(i)\n"
   ]
  },
  {
   "cell_type": "code",
   "execution_count": 72,
   "metadata": {},
   "outputs": [
    {
     "name": "stdout",
     "output_type": "stream",
     "text": [
      "[10, 10.5, 'ten', True, (10+5j), 25]\n",
      "[10.5, 'ten', True, (10+5j), 25] \n",
      "\n",
      "[10.5, True, (10+5j), 25]"
     ]
    }
   ],
   "source": [
    "l=[10,10.5,\"ten\",True,10+5j]\n",
    "\n",
    "l.append(25)\n",
    "print(l) \n",
    "\n",
    "l.remove(10)\n",
    "print(l)\n",
    "\n",
    "l.remove('ten')\n",
    "\n",
    "print(l,end='')\n",
    "\n"
   ]
  },
  {
   "cell_type": "code",
   "execution_count": 74,
   "metadata": {},
   "outputs": [
    {
     "name": "stdout",
     "output_type": "stream",
     "text": [
      "[10, 10.5, 'ten', True, 20, 20, (10+5j), 10, 10.5, 'ten', True, 20, 20, (10+5j)]\n"
     ]
    }
   ],
   "source": [
    "l=[10,10.5,\"ten\",True,20,20,10+5j]\n",
    "l1=l*2\n",
    "print(l1) #modified l1 is printed "
   ]
  },
  {
   "cell_type": "markdown",
   "metadata": {},
   "source": [
    "### Tuple Data Type():\n",
    "Tuple daya type is exactly same as list data type except that it is immutable. i.e we cannot change\n",
    "the values.\n",
    "Tuple elements can be represented within parenthesis."
   ]
  },
  {
   "cell_type": "code",
   "execution_count": 90,
   "metadata": {},
   "outputs": [
    {
     "name": "stdout",
     "output_type": "stream",
     "text": [
      "20\n",
      "<class 'tuple'>\n"
     ]
    }
   ],
   "source": [
    "t=(10,20,\"true\",10+5j,23.3)\n",
    "print(t[1])\n",
    "print(type(t))\n",
    "\n",
    "# t[0]=3 invalid as tuple is immutable\n",
    "# t.append(111) invalid as tuple is immutable\n",
    "# t.remove(100) invalid as tuple is immutable"
   ]
  },
  {
   "cell_type": "markdown",
   "metadata": {},
   "source": [
    "Note: Tuple is the read only version of list"
   ]
  },
  {
   "cell_type": "markdown",
   "metadata": {},
   "source": [
    "### Range Data Type():\n",
    "Range data type represents a sequence of numbers.\n",
    "The elements present in range Data type are not modifiable. i.e range Data type is immutable."
   ]
  },
  {
   "cell_type": "code",
   "execution_count": 81,
   "metadata": {},
   "outputs": [
    {
     "name": "stdout",
     "output_type": "stream",
     "text": [
      "0\n",
      "1\n",
      "2\n",
      "3\n",
      "4\n",
      "5\n",
      "6\n",
      "7\n",
      "8\n",
      "9\n"
     ]
    }
   ],
   "source": [
    "r=range(10)\n",
    "for i in r:\n",
    "    print(i)"
   ]
  },
  {
   "cell_type": "code",
   "execution_count": 82,
   "metadata": {},
   "outputs": [
    {
     "name": "stdout",
     "output_type": "stream",
     "text": [
      "10\n",
      "11\n",
      "12\n",
      "13\n",
      "14\n",
      "15\n",
      "16\n",
      "17\n",
      "18\n",
      "19\n"
     ]
    }
   ],
   "source": [
    "r=range(10,20)\n",
    "for i in r:\n",
    "    print(i)"
   ]
  },
  {
   "cell_type": "code",
   "execution_count": 83,
   "metadata": {},
   "outputs": [
    {
     "name": "stdout",
     "output_type": "stream",
     "text": [
      "10\n",
      "13\n",
      "16\n",
      "19\n"
     ]
    }
   ],
   "source": [
    "r=range(10,20,3)\n",
    "for i in r:\n",
    "    print(i)"
   ]
  },
  {
   "cell_type": "code",
   "execution_count": 86,
   "metadata": {},
   "outputs": [
    {
     "name": "stdout",
     "output_type": "stream",
     "text": [
      "10\n",
      "19\n"
     ]
    },
    {
     "ename": "IndexError",
     "evalue": "range object index out of range",
     "output_type": "error",
     "traceback": [
      "\u001b[0;31m---------------------------------------------------------------------------\u001b[0m",
      "\u001b[0;31mIndexError\u001b[0m                                Traceback (most recent call last)",
      "Cell \u001b[0;32mIn[86], line 4\u001b[0m\n\u001b[1;32m      2\u001b[0m \u001b[38;5;28mprint\u001b[39m(r[\u001b[38;5;241m0\u001b[39m])\n\u001b[1;32m      3\u001b[0m \u001b[38;5;28mprint\u001b[39m(r[\u001b[38;5;241m3\u001b[39m])\n\u001b[0;32m----> 4\u001b[0m \u001b[38;5;28mprint\u001b[39m(\u001b[43mr\u001b[49m\u001b[43m[\u001b[49m\u001b[38;5;241;43m15\u001b[39;49m\u001b[43m]\u001b[49m)\n",
      "\u001b[0;31mIndexError\u001b[0m: range object index out of range"
     ]
    }
   ],
   "source": [
    "r=range(10,20,3)\n",
    "print(r[0])\n",
    "print(r[3])\n",
    "# print(r[15]) IndexError: range object index out of range\n"
   ]
  },
  {
   "cell_type": "code",
   "execution_count": null,
   "metadata": {},
   "outputs": [],
   "source": [
    "r=range(10,20,3)\n",
    "# r[0]=200 we cannot modify the range"
   ]
  },
  {
   "cell_type": "markdown",
   "metadata": {},
   "source": [
    "We can create a list of values with range data type"
   ]
  },
  {
   "cell_type": "code",
   "execution_count": 89,
   "metadata": {},
   "outputs": [
    {
     "name": "stdout",
     "output_type": "stream",
     "text": [
      "[0, 1, 2, 3, 4, 5, 6, 7, 8, 9]\n"
     ]
    },
    {
     "data": {
      "text/plain": [
       "6"
      ]
     },
     "execution_count": 89,
     "metadata": {},
     "output_type": "execute_result"
    }
   ],
   "source": [
    "l=list(range(10))\n",
    "print(l)"
   ]
  },
  {
   "cell_type": "markdown",
   "metadata": {},
   "source": [
    "### Set Data Type():\n",
    " If we want to represents a group of values without duplicates where order is not important then we\n",
    "should go for set Data Type.\n",
    "1) Insertion order is not preserved\n",
    "2) Duplicates are not allowed\n",
    "3) Heterogeneous objects are allowed\n",
    "4) Index concept is not applicable\n",
    "5) It is mutable collection\n",
    "6) Growable in nature"
   ]
  },
  {
   "cell_type": "code",
   "execution_count": 96,
   "metadata": {},
   "outputs": [
    {
     "name": "stdout",
     "output_type": "stream",
     "text": [
      "{10, 'eswar', 20}\n",
      "{10, 'eswar', 20, 30}\n",
      "{'eswar', 20, 30}\n"
     ]
    }
   ],
   "source": [
    "s={10,20,\"eswar\"}\n",
    "# print(s[0]) indexing is not possible order is not preserved\n",
    "print(s)\n",
    "s.add(30)\n",
    "print(s)\n",
    "s.remove(10)\n",
    "print(s)\n",
    "\n"
   ]
  },
  {
   "cell_type": "code",
   "execution_count": 99,
   "metadata": {},
   "outputs": [
    {
     "name": "stdout",
     "output_type": "stream",
     "text": [
      "<class 'set'>\n",
      "<class 'frozenset'>\n"
     ]
    }
   ],
   "source": [
    "s={10,20,\"eswar\"}\n",
    "fs=frozenset(s)\n",
    "\n",
    "print(type(s))\n",
    "print(type(fs))\n",
    "  #s.add(121)   invalid\n",
    "  #s.remove(10) invalid"
   ]
  },
  {
   "cell_type": "markdown",
   "metadata": {},
   "source": [
    "### dict Data Type():\n",
    " 1) If we want to represent a group of values as key-value pairs then we should go for dict data\n",
    "type.\n",
    "2) Eg:d={101:'naresh',102:'ravi',103:'shiva'}\n",
    "3) Duplicate keys are not allowed but values can be duplicated. If we are trying to insert an entry\n",
    "with duplicate key then old value will be replaced with new value."
   ]
  },
  {
   "cell_type": "code",
   "execution_count": 101,
   "metadata": {},
   "outputs": [
    {
     "name": "stdout",
     "output_type": "stream",
     "text": [
      "101\n",
      "102\n",
      "103\n",
      "ten\n"
     ]
    }
   ],
   "source": [
    "d={101:\"eswar\",102:\"aditya\",103:10,\"ten\":10}\n",
    "for i in d:\n",
    "    print(i)"
   ]
  },
  {
   "cell_type": "code",
   "execution_count": 109,
   "metadata": {},
   "outputs": [
    {
     "name": "stdout",
     "output_type": "stream",
     "text": [
      "{101: 'eswar', 102: 'aditya', 103: 10, 'ten': 10, 'a': 'we'}\n",
      "eswar\n"
     ]
    }
   ],
   "source": [
    "d={101:\"eswar\",102:\"aditya\",103:10,\"ten\":10}\n",
    "d['a']=\"we\"\n",
    "print(d)\n",
    "print(d[101])"
   ]
  },
  {
   "cell_type": "markdown",
   "metadata": {},
   "source": [
    "Note:\n",
    "1) In general we can use bytes and bytearray data types to represent binary information like\n",
    "images, video files etc\n",
    "2) In python2 long data type is available. But is Python3 it is not available and we can represent\n",
    "long values are also by using int type only.\n",
    "3) In python there is no char data type. Hence we can represent char values also by using str\n",
    "type."
   ]
  },
  {
   "cell_type": "markdown",
   "metadata": {},
   "source": [
    "### None Data Type():\n",
    "1) None means nothing or No value associated.\n",
    "2) If the value is not available, then to handle such type of cases None introduced.\n",
    "3) It is something like null value in java."
   ]
  },
  {
   "cell_type": "markdown",
   "metadata": {},
   "source": [
    "## operator\n"
   ]
  },
  {
   "cell_type": "markdown",
   "metadata": {},
   "source": [
    "### special operator"
   ]
  },
  {
   "cell_type": "code",
   "execution_count": 111,
   "metadata": {},
   "outputs": [
    {
     "name": "stdout",
     "output_type": "stream",
     "text": [
      "False\n",
      "True\n"
     ]
    }
   ],
   "source": [
    "a=10\n",
    "b=20\n",
    "print(a is b)\n",
    "print(a is not b)"
   ]
  },
  {
   "cell_type": "markdown",
   "metadata": {},
   "source": [
    "### membership operator"
   ]
  },
  {
   "cell_type": "code",
   "execution_count": 113,
   "metadata": {},
   "outputs": [
    {
     "name": "stdout",
     "output_type": "stream",
     "text": [
      "True\n",
      "False\n"
     ]
    }
   ],
   "source": [
    "l=[10,20,\"eswar\"]\n",
    "print(\"eswar\" in l)\n",
    "print(60 in l)"
   ]
  }
 ],
 "metadata": {
  "kernelspec": {
   "display_name": "Python 3",
   "language": "python",
   "name": "python3"
  },
  "language_info": {
   "codemirror_mode": {
    "name": "ipython",
    "version": 3
   },
   "file_extension": ".py",
   "mimetype": "text/x-python",
   "name": "python",
   "nbconvert_exporter": "python",
   "pygments_lexer": "ipython3",
   "version": "3.11.6"
  }
 },
 "nbformat": 4,
 "nbformat_minor": 2
}
