{
 "cells": [
  {
   "cell_type": "markdown",
   "metadata": {},
   "source": [
    "## math module\n",
    "Mathematical Functions (math module)\n",
    "A module is collection of functions, variables, classes etc.\n",
    "math is a module that contains several functions to perform mathematical operations\n",
    "If we want to use any module in python, first we have to import that module\n",
    "import math\n",
    "once we import a module then we can call any function of that module"
   ]
  },
  {
   "cell_type": "markdown",
   "metadata": {},
   "source": [
    "### Important functions of math module:-\n",
    "1) ceil(x)\n",
    "2) floor(x)\n",
    "3) pow(x,y)\n",
    "4) factorial(x)\n",
    "5) trunc(x)\n",
    "6) gcd(x,y)\n",
    "7) sin(x)\n",
    "8) cos(x)\n",
    "9) tan(x)...etc"
   ]
  },
  {
   "cell_type": "code",
   "execution_count": 10,
   "metadata": {},
   "outputs": [
    {
     "name": "stdout",
     "output_type": "stream",
     "text": [
      "3.0\n",
      "10\n",
      "9\n",
      "81.0\n",
      "9\n",
      "3\n",
      "0.4121184852417566\n",
      "-0.9111302618846769\n",
      "-0.4523156594418099\n"
     ]
    }
   ],
   "source": [
    "import math as m\n",
    "print(m.sqrt(9))\n",
    "print(m.ceil(9.5))\n",
    "print(m.floor(9.5))\n",
    "print(m.pow(9,2))\n",
    "print(m.trunc(9.90))\n",
    "print(m.gcd(9,3))\n",
    "print(m.sin(9))\n",
    "print(m.cos(9))\n",
    "print(m.tan(9))\n",
    "\n",
    "\n"
   ]
  }
 ],
 "metadata": {
  "kernelspec": {
   "display_name": "Python 3",
   "language": "python",
   "name": "python3"
  },
  "language_info": {
   "codemirror_mode": {
    "name": "ipython",
    "version": 3
   },
   "file_extension": ".py",
   "mimetype": "text/x-python",
   "name": "python",
   "nbconvert_exporter": "python",
   "pygments_lexer": "ipython3",
   "version": "3.11.6"
  }
 },
 "nbformat": 4,
 "nbformat_minor": 2
}
