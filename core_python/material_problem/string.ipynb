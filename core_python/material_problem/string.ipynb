{
 "cells": [
  {
   "cell_type": "markdown",
   "metadata": {},
   "source": [
    "Strings"
   ]
  },
  {
   "cell_type": "code",
   "execution_count": null,
   "metadata": {},
   "outputs": [],
   "source": [
    "#1)Write a program To reverse the given string:\n",
    "\n",
    "# Input:naresh\n",
    "# output:hseran\n",
    "# 1st way:\n",
    "str=input(\"enter a string\")\n",
    "print(str[::-1])\n",
    "\n",
    "\n"
   ]
  },
  {
   "cell_type": "code",
   "execution_count": null,
   "metadata": {},
   "outputs": [],
   "source": [
    "# 2nd way:\n",
    "str=input(\"enter a string\")\n",
    "i=len(str)-1 \n",
    "reverse_string=\"\"\n",
    "while i>=0:\n",
    "    reverse_string=reverse_string+str[i]\n",
    "    i=i-1\n",
    "print(reverse_string)"
   ]
  },
  {
   "cell_type": "code",
   "execution_count": null,
   "metadata": {},
   "outputs": [],
   "source": [
    "\n",
    "# 3rd way:\n",
    "str=input(\"enter a string\")\n",
    "print(''.join(reversed(str)))"
   ]
  },
  {
   "cell_type": "code",
   "execution_count": 14,
   "metadata": {},
   "outputs": [
    {
     "name": "stdout",
     "output_type": "stream",
     "text": [
      "Easy very is Python Learning\n"
     ]
    }
   ],
   "source": [
    "# 2)write a program to reverse order of words:\n",
    "# Input:Learning Python is very Easy\n",
    "# output:Easy Very is Python Learning\n",
    "\n",
    "str=input(\"enter a string\")\n",
    "\n",
    "words=str.split()\n",
    "\n",
    "# method 1\n",
    "# i=len(words)-1 #i is words length which is word count here\n",
    "\n",
    "# reversed_words=[]\n",
    "# while i>=0:\n",
    "#     reversed_words.append(words[i])\n",
    "#     i=i-1\n",
    "# print(''.join(reversed_words))\n",
    "\n",
    "#method 2\n",
    "str1=\" \".join(reversed(words))\n",
    "print(str1)"
   ]
  },
  {
   "cell_type": "code",
   "execution_count": 17,
   "metadata": {},
   "outputs": [
    {
     "name": "stdout",
     "output_type": "stream",
     "text": [
      "eciN retupmoC noitacudE "
     ]
    }
   ],
   "source": [
    "# 3) write a program to reverse internal content of each word:\n",
    "# Input:Nice Computer Education\n",
    "# output:eciN retupmoC noitacudE\n",
    "\n",
    "# method1\n",
    "# str=input(\"enter a string\")\n",
    "# words=str.split()\n",
    "# reversed_string=[]\n",
    "# i=0\n",
    "# while  i<len(words):\n",
    "#     reversed_string.append(words[i][::-1])\n",
    "#     i=i+1\n",
    "# print(''.join(reversed_string))\n",
    "\n",
    "# method2\n",
    "str=\"Nice Computer Education\"\n",
    "splitstr=str.split()\n",
    "\n",
    "for s in splitstr:\n",
    "    print(\"\".join(reversed(s)),end=\" \")\n",
    "    "
   ]
  },
  {
   "cell_type": "code",
   "execution_count": 30,
   "metadata": {},
   "outputs": [
    {
     "name": "stdout",
     "output_type": "stream",
     "text": [
      "even characters=  hlowrd\n",
      "odd characters=  el ol\n"
     ]
    }
   ],
   "source": [
    "# 4)write a program to print charatcers at odd position and even position\n",
    "# for the given string?\n",
    "# 1st way:\n",
    "str=input(\"enter a string\")\n",
    "print(\"even characters= \",str[0::2])\n",
    "print(\"odd characters= \",str[1::2])\n",
    "\n",
    "# 2nd way:\n",
    "    \n",
    "\n"
   ]
  },
  {
   "cell_type": "code",
   "execution_count": 33,
   "metadata": {},
   "outputs": [
    {
     "name": "stdout",
     "output_type": "stream",
     "text": [
      "characters at even position\n",
      "h,l,o,w,r,d,characters at odd position\n",
      "e,l, ,o,l,"
     ]
    }
   ],
   "source": [
    "# 2nd way:\n",
    "str=input(\"enter a string\")\n",
    "i=0\n",
    "print(\"characters at even position\")\n",
    "while i<len(str):\n",
    "    print(str[i],end=\",\")\n",
    "    i=i+2\n",
    "\n",
    "i=1\n",
    "print(\"characters at odd position\")\n",
    "while i< len(str):\n",
    "    print(str[i],end=\",\")\n",
    "    i=i+2\n"
   ]
  },
  {
   "cell_type": "markdown",
   "metadata": {},
   "source": [
    "Program to diaplay all positions of substring in a given main string"
   ]
  },
  {
   "cell_type": "code",
   "execution_count": 3,
   "metadata": {},
   "outputs": [
    {
     "name": "stdout",
     "output_type": "stream",
     "text": [
      "Substring not found\n"
     ]
    }
   ],
   "source": [
    "ms = input(\"Enter the main string: \")\n",
    "ss = input(\"Enter the substring: \")\n",
    "\n",
    "pos = 0\n",
    "while True:\n",
    "    res = ms.find(ss, pos,len(ms))\n",
    "    if res == -1:\n",
    "        print(\"Substring not found\") \n",
    "        break\n",
    "    print(\"Substring found at position:\", res)\n",
    "    pos = res + 1\n",
    "\n"
   ]
  },
  {
   "cell_type": "markdown",
   "metadata": {},
   "source": [
    "Counting substring in given String:"
   ]
  },
  {
   "cell_type": "code",
   "execution_count": 5,
   "metadata": {},
   "outputs": [
    {
     "name": "stdout",
     "output_type": "stream",
     "text": [
      "2\n"
     ]
    }
   ],
   "source": [
    "ms = input(\"Enter the main string: \")\n",
    "ss = input(\"Enter the substring: \")\n",
    "pos=0\n",
    "print(ms.count(ss,pos,len(ms)))"
   ]
  },
  {
   "cell_type": "markdown",
   "metadata": {},
   "source": [
    "Replacing a String with another String:"
   ]
  },
  {
   "cell_type": "code",
   "execution_count": 8,
   "metadata": {},
   "outputs": [
    {
     "name": "stdout",
     "output_type": "stream",
     "text": [
      "hello hey\n"
     ]
    }
   ],
   "source": [
    "ms = \"hello hi\"\n",
    "rs = input(\"Enter string to replace with hi: \")\n",
    "\n",
    "ms1=ms.replace(\"hi\",rs)\n",
    "print(ms1)"
   ]
  },
  {
   "cell_type": "code",
   "execution_count": 9,
   "metadata": {},
   "outputs": [
    {
     "name": "stdout",
     "output_type": "stream",
     "text": [
      "bbbbbbbbbbbbb\n"
     ]
    }
   ],
   "source": [
    "a=\"ababababababa\"\n",
    "a1=a.replace('a','b')\n",
    "print(a1)"
   ]
  },
  {
   "cell_type": "markdown",
   "metadata": {},
   "source": [
    "5) Program to merge characters of 2 strings into a single string by taking\n",
    "characters alternatively"
   ]
  },
  {
   "cell_type": "code",
   "execution_count": 22,
   "metadata": {},
   "outputs": [
    {
     "name": "stdout",
     "output_type": "stream",
     "text": [
      " h1i2h3e4l5l6\n"
     ]
    }
   ],
   "source": [
    "s1=\"hihello\"\n",
    "s2=\"123456\"\n",
    "i=0\n",
    "j=0\n",
    "output=\" \"\n",
    "while i<len(s1) and j<len(s2):\n",
    "    if i<=len(s1):\n",
    "        output=output+s1[i]\n",
    "        i=i+1\n",
    "    if j<=len(s2):\n",
    "        output=output+s2[j]\n",
    "        j=j+1\n",
    "print(output)"
   ]
  },
  {
   "cell_type": "markdown",
   "metadata": {},
   "source": [
    "write a program to sort the characters of the string and First alphabet\n",
    "symbols followed by numaric values:"
   ]
  },
  {
   "cell_type": "code",
   "execution_count": 31,
   "metadata": {},
   "outputs": [
    {
     "name": "stdout",
     "output_type": "stream",
     "text": [
      " ABD 134\n"
     ]
    }
   ],
   "source": [
    "s=\"B4A1D3\"\n",
    "s1=s2=\" \"\n",
    "output=\" \"\n",
    "for i in s:\n",
    "    if i.isalpha():\n",
    "        s1=s1+i\n",
    "    if i.isdigit():\n",
    "        s2=s2+i\n",
    "\n",
    "output=sorted(s1)+sorted(s2)\n",
    "print(\"\".join(output))"
   ]
  },
  {
   "cell_type": "markdown",
   "metadata": {},
   "source": [
    "7) a program for the following requirement\n",
    "Input:a4b3c2\n",
    "Output:aaaabbbcc"
   ]
  },
  {
   "cell_type": "code",
   "execution_count": 37,
   "metadata": {},
   "outputs": [
    {
     "name": "stdout",
     "output_type": "stream",
     "text": [
      " aaaabbbcc\n"
     ]
    }
   ],
   "source": [
    "s=\"a4b3c2\"\n",
    "\n",
    "output=\" \"\n",
    "for i in s:\n",
    "    if i.isalpha():\n",
    "        output=output+i\n",
    "        pre=i\n",
    "    if i.isdigit():\n",
    "        mul=int(i)-1\n",
    "        output=output+pre*mul\n",
    "print(output)\n",
    "        "
   ]
  },
  {
   "cell_type": "markdown",
   "metadata": {},
   "source": [
    "8) write a program to perform following activity\n",
    "INput:a4k3b2\n",
    "output:aeknbd"
   ]
  },
  {
   "cell_type": "code",
   "execution_count": 39,
   "metadata": {},
   "outputs": [
    {
     "name": "stdout",
     "output_type": "stream",
     "text": [
      " aeknbd\n"
     ]
    }
   ],
   "source": [
    "s=\"a4k3b2\"\n",
    "output=\" \"\n",
    "\n",
    "for i in s:\n",
    "    if i.isalpha():\n",
    "        output=output+i\n",
    "        pre=i\n",
    "        \n",
    "    if i.isdigit():\n",
    "        n=int(i)\n",
    "        output=output+ chr(ord(pre)+n)\n",
    "        \n",
    "print(output)\n",
    "        \n"
   ]
  },
  {
   "cell_type": "markdown",
   "metadata": {},
   "source": [
    "write a program to find the number of occurrences of each character present in the given\n",
    "string:"
   ]
  },
  {
   "cell_type": "code",
   "execution_count": null,
   "metadata": {},
   "outputs": [],
   "source": [
    "\n",
    "       \n",
    "    \n"
   ]
  },
  {
   "cell_type": "markdown",
   "metadata": {},
   "source": [
    "11) write a program to perform the following task:\n",
    "input:'one two three four five six seven'\n",
    "output:'one owt three ruof five xis seven'"
   ]
  },
  {
   "cell_type": "code",
   "execution_count": 61,
   "metadata": {},
   "outputs": [
    {
     "name": "stdout",
     "output_type": "stream",
     "text": [
      "one, owt, three, ruof, five, xis, seven\n"
     ]
    }
   ],
   "source": [
    "s=\"one two three four five six seven\"\n",
    "output=[]\n",
    "splitstr=s.split()\n",
    "i=0\n",
    "while i<len(splitstr):\n",
    "    if i%2==0:\n",
    "        output.append(splitstr[i])\n",
    "        i+=1\n",
    "    else :\n",
    "        output.append(\"\".join(reversed(splitstr[i])))\n",
    "        i+=1  \n",
    "print(\", \".join(output))\n"
   ]
  }
 ],
 "metadata": {
  "kernelspec": {
   "display_name": "Python 3",
   "language": "python",
   "name": "python3"
  },
  "language_info": {
   "codemirror_mode": {
    "name": "ipython",
    "version": 3
   },
   "file_extension": ".py",
   "mimetype": "text/x-python",
   "name": "python",
   "nbconvert_exporter": "python",
   "pygments_lexer": "ipython3",
   "version": "3.11.6"
  }
 },
 "nbformat": 4,
 "nbformat_minor": 2
}
