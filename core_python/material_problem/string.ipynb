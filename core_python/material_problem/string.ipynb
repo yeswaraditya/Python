{
 "cells": [
  {
   "cell_type": "markdown",
   "metadata": {},
   "source": [
    "Strings"
   ]
  },
  {
   "cell_type": "code",
   "execution_count": null,
   "metadata": {},
   "outputs": [],
   "source": [
    "#1)Write a program To reverse the given string:\n",
    "\n",
    "# Input:naresh\n",
    "# output:hseran\n",
    "# 1st way:\n",
    "str=input(\"enter a string\")\n",
    "print(str[::-1])\n",
    "\n",
    "\n"
   ]
  },
  {
   "cell_type": "code",
   "execution_count": null,
   "metadata": {},
   "outputs": [],
   "source": [
    "# 2nd way:\n",
    "str=input(\"enter a string\")\n",
    "i=len(str)-1 \n",
    "reverse_string=\"\"\n",
    "while i>=0:\n",
    "    reverse_string=reverse_string+str[i]\n",
    "    i=i-1\n",
    "print(reverse_string)"
   ]
  },
  {
   "cell_type": "code",
   "execution_count": null,
   "metadata": {},
   "outputs": [],
   "source": [
    "\n",
    "# 3rd way:\n",
    "str=input(\"enter a string\")\n",
    "print(''.join(reversed(str)))"
   ]
  },
  {
   "cell_type": "code",
   "execution_count": null,
   "metadata": {},
   "outputs": [],
   "source": [
    "# 2)write a program to reverse order of words:\n",
    "# Input:Learning Python is very Easy\n",
    "# output:Easy Very is Python Learning\n",
    "\n",
    "str=input(\"enter a string\")\n",
    "\n",
    "words=str.split()\n",
    "i=len(words)-1 #i is words length which is word count here\n",
    "\n",
    "reversed_words=[]\n",
    "while i>=0:\n",
    "    reversed_words.append(words[i])\n",
    "    i=i-1\n",
    "print(''.join(reversed_words))"
   ]
  },
  {
   "cell_type": "code",
   "execution_count": 28,
   "metadata": {},
   "outputs": [
    {
     "name": "stdout",
     "output_type": "stream",
     "text": [
      "evolu\n"
     ]
    }
   ],
   "source": [
    "# 3) write a program to reverse internal content of each word:\n",
    "# Input:Nice Computer Education\n",
    "# output:eciN retupmoC noitacudE\n",
    "\n",
    "str=input(\"enter a string\")\n",
    "words=str.split()\n",
    "reversed_string=[]\n",
    "i=0\n",
    "while  i<len(words):\n",
    "    reversed_string.append(words[i][::-1])\n",
    "    i=i+1\n",
    "print(''.join(reversed_string))\n",
    "    "
   ]
  },
  {
   "cell_type": "code",
   "execution_count": 30,
   "metadata": {},
   "outputs": [
    {
     "name": "stdout",
     "output_type": "stream",
     "text": [
      "even characters=  hlowrd\n",
      "odd characters=  el ol\n"
     ]
    }
   ],
   "source": [
    "# 4)write a program to print charatcers at odd position and even position\n",
    "# for the given string?\n",
    "# 1st way:\n",
    "str=input(\"enter a string\")\n",
    "print(\"even characters= \",str[0::2])\n",
    "print(\"odd characters= \",str[1::2])\n",
    "\n",
    "# 2nd way:\n",
    "    \n",
    "\n"
   ]
  },
  {
   "cell_type": "code",
   "execution_count": 33,
   "metadata": {},
   "outputs": [
    {
     "name": "stdout",
     "output_type": "stream",
     "text": [
      "characters at even position\n",
      "h,l,o,w,r,d,characters at odd position\n",
      "e,l, ,o,l,"
     ]
    }
   ],
   "source": [
    "# 2nd way:\n",
    "str=input(\"enter a string\")\n",
    "i=0\n",
    "print(\"characters at even position\")\n",
    "while i<len(str):\n",
    "    print(str[i],end=\",\")\n",
    "    i=i+2\n",
    "\n",
    "i=1\n",
    "print(\"characters at odd position\")\n",
    "while i< len(str):\n",
    "    print(str[i],end=\",\")\n",
    "    i=i+2\n"
   ]
  }
 ],
 "metadata": {
  "kernelspec": {
   "display_name": "Python 3",
   "language": "python",
   "name": "python3"
  },
  "language_info": {
   "codemirror_mode": {
    "name": "ipython",
    "version": 3
   },
   "file_extension": ".py",
   "mimetype": "text/x-python",
   "name": "python",
   "nbconvert_exporter": "python",
   "pygments_lexer": "ipython3",
   "version": "3.11.6"
  }
 },
 "nbformat": 4,
 "nbformat_minor": 2
}
