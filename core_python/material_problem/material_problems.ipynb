{
 "cells": [
  {
   "cell_type": "markdown",
   "metadata": {},
   "source": [
    "Strings"
   ]
  },
  {
   "cell_type": "code",
   "execution_count": null,
   "metadata": {},
   "outputs": [],
   "source": [
    "#1)Write a program To reverse the given string:\n",
    "\n",
    "# Input:naresh\n",
    "# output:hseran\n",
    "# 1st way:\n",
    "str=input(\"enter a string\")\n",
    "print(str[::-1])\n",
    "\n",
    "# 2nd way:\n",
    "str=input(\"enter a string\")\n",
    "i=len(str)-1 \n",
    "reverse_string=\"\"\n",
    "while i>=0:\n",
    "    reverse_string=reverse_string+str[i]\n",
    "    i=i-1\n",
    "print(reverse_string)\n",
    "\n",
    "\n",
    "# 3rd way:\n",
    "str=input(\"enter a string\")\n",
    "print(''.join(reversed(str)))\n"
   ]
  },
  {
   "cell_type": "code",
   "execution_count": null,
   "metadata": {},
   "outputs": [],
   "source": [
    "# 2)write a program to reverse order of words:\n",
    "# Input:Learning Python is very Easy\n",
    "# output:Easy Very is Python Learning\n",
    "\n",
    "str=input(\"enter a string\")\n",
    "\n",
    "words=str.split()\n",
    "i=len(words)-1 #i is words length which is word count here\n",
    "\n",
    "reversed_words=[]\n",
    "while i>=0:\n",
    "    reversed_words.append(words[i])\n",
    "    i=i-1\n",
    "print(''.join(reversed_words))"
   ]
  }
 ],
 "metadata": {
  "kernelspec": {
   "display_name": "Python 3",
   "language": "python",
   "name": "python3"
  },
  "language_info": {
   "codemirror_mode": {
    "name": "ipython",
    "version": 3
   },
   "file_extension": ".py",
   "mimetype": "text/x-python",
   "name": "python",
   "nbconvert_exporter": "python",
   "pygments_lexer": "ipython3",
   "version": "3.11.6"
  }
 },
 "nbformat": 4,
 "nbformat_minor": 2
}
