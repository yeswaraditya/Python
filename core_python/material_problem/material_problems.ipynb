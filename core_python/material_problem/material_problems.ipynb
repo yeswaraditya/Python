{
 "cells": [
  {
   "cell_type": "markdown",
   "metadata": {},
   "source": [
    "Strings"
   ]
  },
  {
   "cell_type": "code",
   "execution_count": null,
   "metadata": {},
   "outputs": [],
   "source": [
    "#1)Write a program To reverse the given string:\n",
    "# Input:naresh\n",
    "# output:hseran\n",
    "# 1st way:\n",
    "str=input(\"enter a string\")\n",
    "print(str[::-1])"
   ]
  },
  {
   "cell_type": "code",
   "execution_count": 5,
   "metadata": {},
   "outputs": [
    {
     "name": "stdout",
     "output_type": "stream",
     "text": [
      "ih\n"
     ]
    }
   ],
   "source": [
    "# 2nd way:\n",
    "str=input(\"enter a string\")\n",
    "i=len(str)-1 \n",
    "reverse_string=\"\"\n",
    "while i>=0:\n",
    "    reverse_string=reverse_string+str[i]\n",
    "    i=i-1\n",
    "print(reverse_string)"
   ]
  }
 ],
 "metadata": {
  "kernelspec": {
   "display_name": "Python 3",
   "language": "python",
   "name": "python3"
  },
  "language_info": {
   "codemirror_mode": {
    "name": "ipython",
    "version": 3
   },
   "file_extension": ".py",
   "mimetype": "text/x-python",
   "name": "python",
   "nbconvert_exporter": "python",
   "pygments_lexer": "ipython3",
   "version": "3.11.6"
  }
 },
 "nbformat": 4,
 "nbformat_minor": 2
}
