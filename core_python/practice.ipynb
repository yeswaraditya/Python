{
 "cells": [
  {
   "cell_type": "markdown",
   "metadata": {},
   "source": [
    "program for instance variables"
   ]
  },
  {
   "cell_type": "code",
   "execution_count": 8,
   "metadata": {},
   "outputs": [
    {
     "name": "stdout",
     "output_type": "stream",
     "text": [
      "name is : eswar\n",
      "rollno is : 1\n",
      "marks are : 90\n",
      "\n",
      "name is : eswar\n",
      "rollno is : 1\n",
      "marks are : 90\n",
      "\n",
      "name is : eswar\n",
      "rollno is : 1\n",
      "marks are : 90\n",
      "\n"
     ]
    }
   ],
   "source": [
    "class Student:\n",
    "    def __init__(self,name,rollno,marks) :\n",
    "        self.name=name\n",
    "        self.rollno=rollno\n",
    "        self.marks=marks\n",
    "        \n",
    "    def display(self):\n",
    "        print(\"name is :\",self.name)\n",
    "        print(\"rollno is :\",self.rollno)\n",
    "        print(\"marks are :\",self.marks)\n",
    "        print()\n",
    "        \n",
    "#main\n",
    "\n",
    "s1=Student(\"eswar\",1,90)\n",
    "s1.display()\n",
    "\n",
    "s2=Student(\"aditya\",2,80)\n",
    "s1.display()\n",
    "\n",
    "s3=Student(\"yarlagadda\",3,70)\n",
    "s1.display()\n",
    "        \n",
    "\n",
    "        \n",
    "      "
   ]
  }
 ],
 "metadata": {
  "kernelspec": {
   "display_name": "Python 3",
   "language": "python",
   "name": "python3"
  },
  "language_info": {
   "codemirror_mode": {
    "name": "ipython",
    "version": 3
   },
   "file_extension": ".py",
   "mimetype": "text/x-python",
   "name": "python",
   "nbconvert_exporter": "python",
   "pygments_lexer": "ipython3",
   "version": "3.11.6"
  }
 },
 "nbformat": 4,
 "nbformat_minor": 2
}
